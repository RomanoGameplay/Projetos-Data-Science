{
 "cells": [
  {
   "cell_type": "code",
   "execution_count": 1,
   "id": "22a99193",
   "metadata": {
    "_cell_guid": "b1076dfc-b9ad-4769-8c92-a6c4dae69d19",
    "_uuid": "8f2839f25d086af736a60e9eeb907d3b93b6e0e5",
    "execution": {
     "iopub.execute_input": "2023-07-07T14:22:08.058911Z",
     "iopub.status.busy": "2023-07-07T14:22:08.058388Z",
     "iopub.status.idle": "2023-07-07T14:22:08.112463Z",
     "shell.execute_reply": "2023-07-07T14:22:08.111221Z"
    },
    "papermill": {
     "duration": 0.067836,
     "end_time": "2023-07-07T14:22:08.115193",
     "exception": false,
     "start_time": "2023-07-07T14:22:08.047357",
     "status": "completed"
    },
    "tags": []
   },
   "outputs": [
    {
     "name": "stdout",
     "output_type": "stream",
     "text": [
      "/kaggle/input/salary-data/Salary_Data.csv\n"
     ]
    }
   ],
   "source": [
    "# This Python 3 environment comes with many helpful analytics libraries installed\n",
    "# It is defined by the kaggle/python Docker image: https://github.com/kaggle/docker-python\n",
    "# For example, here's several helpful packages to load\n",
    "\n",
    "import numpy as np # linear algebra\n",
    "import pandas as pd # data processing, CSV file I/O (e.g. pd.read_csv)\n",
    "\n",
    "# Input data files are available in the read-only \"../input/\" directory\n",
    "# For example, running this (by clicking run or pressing Shift+Enter) will list all files under the input directory\n",
    "\n",
    "import os\n",
    "\n",
    "df = pd.DataFrame()\n",
    "for dirname, _, filenames in os.walk('/kaggle/input'):\n",
    "    for filename in filenames:\n",
    "        df_path = os.path.join(dirname, filename)\n",
    "        print(df_path)\n",
    "        df = pd.read_csv(df_path, encoding='latin-1')\n",
    "\n",
    "# You can write up to 20GB to the current directory (/kaggle/working/) that gets preserved as output when you create a version using \"Save & Run All\" \n",
    "# You can also write temporary files to /kaggle/temp/, but they won't be saved outside of the current session"
   ]
  },
  {
   "cell_type": "code",
   "execution_count": 2,
   "id": "fbe28d93",
   "metadata": {
    "execution": {
     "iopub.execute_input": "2023-07-07T14:22:08.134618Z",
     "iopub.status.busy": "2023-07-07T14:22:08.133792Z",
     "iopub.status.idle": "2023-07-07T14:22:08.179697Z",
     "shell.execute_reply": "2023-07-07T14:22:08.178255Z"
    },
    "papermill": {
     "duration": 0.059093,
     "end_time": "2023-07-07T14:22:08.182663",
     "exception": false,
     "start_time": "2023-07-07T14:22:08.123570",
     "status": "completed"
    },
    "tags": []
   },
   "outputs": [
    {
     "data": {
      "text/html": [
       "<div>\n",
       "<style scoped>\n",
       "    .dataframe tbody tr th:only-of-type {\n",
       "        vertical-align: middle;\n",
       "    }\n",
       "\n",
       "    .dataframe tbody tr th {\n",
       "        vertical-align: top;\n",
       "    }\n",
       "\n",
       "    .dataframe thead th {\n",
       "        text-align: right;\n",
       "    }\n",
       "</style>\n",
       "<table border=\"1\" class=\"dataframe\">\n",
       "  <thead>\n",
       "    <tr style=\"text-align: right;\">\n",
       "      <th></th>\n",
       "      <th>ï»¿Age</th>\n",
       "      <th>Gender</th>\n",
       "      <th>Education Level</th>\n",
       "      <th>Job Title</th>\n",
       "      <th>Years of Experience</th>\n",
       "      <th>Salary</th>\n",
       "    </tr>\n",
       "  </thead>\n",
       "  <tbody>\n",
       "    <tr>\n",
       "      <th>0</th>\n",
       "      <td>32.0</td>\n",
       "      <td>Male</td>\n",
       "      <td>Bachelor's</td>\n",
       "      <td>Software Engineer</td>\n",
       "      <td>5.0</td>\n",
       "      <td>90000.0</td>\n",
       "    </tr>\n",
       "    <tr>\n",
       "      <th>1</th>\n",
       "      <td>28.0</td>\n",
       "      <td>Female</td>\n",
       "      <td>Master's</td>\n",
       "      <td>Data Analyst</td>\n",
       "      <td>3.0</td>\n",
       "      <td>65000.0</td>\n",
       "    </tr>\n",
       "    <tr>\n",
       "      <th>2</th>\n",
       "      <td>45.0</td>\n",
       "      <td>Male</td>\n",
       "      <td>PhD</td>\n",
       "      <td>Senior Manager</td>\n",
       "      <td>15.0</td>\n",
       "      <td>150000.0</td>\n",
       "    </tr>\n",
       "    <tr>\n",
       "      <th>3</th>\n",
       "      <td>36.0</td>\n",
       "      <td>Female</td>\n",
       "      <td>Bachelor's</td>\n",
       "      <td>Sales Associate</td>\n",
       "      <td>7.0</td>\n",
       "      <td>60000.0</td>\n",
       "    </tr>\n",
       "    <tr>\n",
       "      <th>4</th>\n",
       "      <td>52.0</td>\n",
       "      <td>Male</td>\n",
       "      <td>Master's</td>\n",
       "      <td>Director</td>\n",
       "      <td>20.0</td>\n",
       "      <td>200000.0</td>\n",
       "    </tr>\n",
       "    <tr>\n",
       "      <th>...</th>\n",
       "      <td>...</td>\n",
       "      <td>...</td>\n",
       "      <td>...</td>\n",
       "      <td>...</td>\n",
       "      <td>...</td>\n",
       "      <td>...</td>\n",
       "    </tr>\n",
       "    <tr>\n",
       "      <th>6699</th>\n",
       "      <td>49.0</td>\n",
       "      <td>Female</td>\n",
       "      <td>PhD</td>\n",
       "      <td>Director of Marketing</td>\n",
       "      <td>20.0</td>\n",
       "      <td>200000.0</td>\n",
       "    </tr>\n",
       "    <tr>\n",
       "      <th>6700</th>\n",
       "      <td>32.0</td>\n",
       "      <td>Male</td>\n",
       "      <td>High School</td>\n",
       "      <td>Sales Associate</td>\n",
       "      <td>3.0</td>\n",
       "      <td>50000.0</td>\n",
       "    </tr>\n",
       "    <tr>\n",
       "      <th>6701</th>\n",
       "      <td>30.0</td>\n",
       "      <td>Female</td>\n",
       "      <td>Bachelor's Degree</td>\n",
       "      <td>Financial Manager</td>\n",
       "      <td>4.0</td>\n",
       "      <td>55000.0</td>\n",
       "    </tr>\n",
       "    <tr>\n",
       "      <th>6702</th>\n",
       "      <td>46.0</td>\n",
       "      <td>Male</td>\n",
       "      <td>Master's Degree</td>\n",
       "      <td>Marketing Manager</td>\n",
       "      <td>14.0</td>\n",
       "      <td>140000.0</td>\n",
       "    </tr>\n",
       "    <tr>\n",
       "      <th>6703</th>\n",
       "      <td>26.0</td>\n",
       "      <td>Female</td>\n",
       "      <td>High School</td>\n",
       "      <td>Sales Executive</td>\n",
       "      <td>1.0</td>\n",
       "      <td>35000.0</td>\n",
       "    </tr>\n",
       "  </tbody>\n",
       "</table>\n",
       "<p>6704 rows × 6 columns</p>\n",
       "</div>"
      ],
      "text/plain": [
       "      ï»¿Age  Gender    Education Level              Job Title  \\\n",
       "0       32.0    Male         Bachelor's      Software Engineer   \n",
       "1       28.0  Female           Master's           Data Analyst   \n",
       "2       45.0    Male                PhD         Senior Manager   \n",
       "3       36.0  Female         Bachelor's        Sales Associate   \n",
       "4       52.0    Male           Master's               Director   \n",
       "...      ...     ...                ...                    ...   \n",
       "6699    49.0  Female                PhD  Director of Marketing   \n",
       "6700    32.0    Male        High School        Sales Associate   \n",
       "6701    30.0  Female  Bachelor's Degree      Financial Manager   \n",
       "6702    46.0    Male    Master's Degree      Marketing Manager   \n",
       "6703    26.0  Female        High School        Sales Executive   \n",
       "\n",
       "      Years of Experience    Salary  \n",
       "0                     5.0   90000.0  \n",
       "1                     3.0   65000.0  \n",
       "2                    15.0  150000.0  \n",
       "3                     7.0   60000.0  \n",
       "4                    20.0  200000.0  \n",
       "...                   ...       ...  \n",
       "6699                 20.0  200000.0  \n",
       "6700                  3.0   50000.0  \n",
       "6701                  4.0   55000.0  \n",
       "6702                 14.0  140000.0  \n",
       "6703                  1.0   35000.0  \n",
       "\n",
       "[6704 rows x 6 columns]"
      ]
     },
     "execution_count": 2,
     "metadata": {},
     "output_type": "execute_result"
    }
   ],
   "source": [
    "df"
   ]
  },
  {
   "cell_type": "code",
   "execution_count": 3,
   "id": "50975265",
   "metadata": {
    "execution": {
     "iopub.execute_input": "2023-07-07T14:22:08.201876Z",
     "iopub.status.busy": "2023-07-07T14:22:08.201471Z",
     "iopub.status.idle": "2023-07-07T14:22:08.232444Z",
     "shell.execute_reply": "2023-07-07T14:22:08.231154Z"
    },
    "papermill": {
     "duration": 0.044063,
     "end_time": "2023-07-07T14:22:08.235239",
     "exception": false,
     "start_time": "2023-07-07T14:22:08.191176",
     "status": "completed"
    },
    "tags": []
   },
   "outputs": [
    {
     "name": "stdout",
     "output_type": "stream",
     "text": [
      "<class 'pandas.core.frame.DataFrame'>\n",
      "RangeIndex: 6704 entries, 0 to 6703\n",
      "Data columns (total 6 columns):\n",
      " #   Column               Non-Null Count  Dtype  \n",
      "---  ------               --------------  -----  \n",
      " 0   ï»¿Age               6702 non-null   float64\n",
      " 1   Gender               6702 non-null   object \n",
      " 2   Education Level      6701 non-null   object \n",
      " 3   Job Title            6702 non-null   object \n",
      " 4   Years of Experience  6701 non-null   float64\n",
      " 5   Salary               6699 non-null   float64\n",
      "dtypes: float64(3), object(3)\n",
      "memory usage: 314.4+ KB\n"
     ]
    }
   ],
   "source": [
    "df.info()"
   ]
  },
  {
   "cell_type": "code",
   "execution_count": 4,
   "id": "f04ace1e",
   "metadata": {
    "execution": {
     "iopub.execute_input": "2023-07-07T14:22:08.254374Z",
     "iopub.status.busy": "2023-07-07T14:22:08.253964Z",
     "iopub.status.idle": "2023-07-07T14:22:08.260149Z",
     "shell.execute_reply": "2023-07-07T14:22:08.258851Z"
    },
    "papermill": {
     "duration": 0.018889,
     "end_time": "2023-07-07T14:22:08.262740",
     "exception": false,
     "start_time": "2023-07-07T14:22:08.243851",
     "status": "completed"
    },
    "tags": []
   },
   "outputs": [],
   "source": [
    "df.rename(columns={df.columns.values[0]: 'Age'}, inplace=True)"
   ]
  },
  {
   "cell_type": "code",
   "execution_count": 5,
   "id": "6ee94c76",
   "metadata": {
    "execution": {
     "iopub.execute_input": "2023-07-07T14:22:08.283524Z",
     "iopub.status.busy": "2023-07-07T14:22:08.283105Z",
     "iopub.status.idle": "2023-07-07T14:22:08.299020Z",
     "shell.execute_reply": "2023-07-07T14:22:08.298199Z"
    },
    "papermill": {
     "duration": 0.02847,
     "end_time": "2023-07-07T14:22:08.301503",
     "exception": false,
     "start_time": "2023-07-07T14:22:08.273033",
     "status": "completed"
    },
    "tags": []
   },
   "outputs": [
    {
     "data": {
      "text/plain": [
       "Age                    2\n",
       "Gender                 2\n",
       "Education Level        3\n",
       "Job Title              2\n",
       "Years of Experience    3\n",
       "Salary                 5\n",
       "dtype: int64"
      ]
     },
     "execution_count": 5,
     "metadata": {},
     "output_type": "execute_result"
    }
   ],
   "source": [
    "df.isnull().sum()"
   ]
  },
  {
   "cell_type": "code",
   "execution_count": 6,
   "id": "af92432f",
   "metadata": {
    "execution": {
     "iopub.execute_input": "2023-07-07T14:22:08.321553Z",
     "iopub.status.busy": "2023-07-07T14:22:08.321114Z",
     "iopub.status.idle": "2023-07-07T14:22:08.335328Z",
     "shell.execute_reply": "2023-07-07T14:22:08.334114Z"
    },
    "papermill": {
     "duration": 0.027959,
     "end_time": "2023-07-07T14:22:08.338334",
     "exception": false,
     "start_time": "2023-07-07T14:22:08.310375",
     "status": "completed"
    },
    "tags": []
   },
   "outputs": [],
   "source": [
    "df.dropna(how='all', inplace=True)"
   ]
  },
  {
   "cell_type": "code",
   "execution_count": 7,
   "id": "0f51439d",
   "metadata": {
    "execution": {
     "iopub.execute_input": "2023-07-07T14:22:08.357909Z",
     "iopub.status.busy": "2023-07-07T14:22:08.357489Z",
     "iopub.status.idle": "2023-07-07T14:22:08.382374Z",
     "shell.execute_reply": "2023-07-07T14:22:08.381523Z"
    },
    "papermill": {
     "duration": 0.03765,
     "end_time": "2023-07-07T14:22:08.384826",
     "exception": false,
     "start_time": "2023-07-07T14:22:08.347176",
     "status": "completed"
    },
    "tags": []
   },
   "outputs": [
    {
     "data": {
      "text/html": [
       "<div>\n",
       "<style scoped>\n",
       "    .dataframe tbody tr th:only-of-type {\n",
       "        vertical-align: middle;\n",
       "    }\n",
       "\n",
       "    .dataframe tbody tr th {\n",
       "        vertical-align: top;\n",
       "    }\n",
       "\n",
       "    .dataframe thead th {\n",
       "        text-align: right;\n",
       "    }\n",
       "</style>\n",
       "<table border=\"1\" class=\"dataframe\">\n",
       "  <thead>\n",
       "    <tr style=\"text-align: right;\">\n",
       "      <th></th>\n",
       "      <th>Age</th>\n",
       "      <th>Years of Experience</th>\n",
       "      <th>Salary</th>\n",
       "    </tr>\n",
       "  </thead>\n",
       "  <tbody>\n",
       "    <tr>\n",
       "      <th>count</th>\n",
       "      <td>6702.000000</td>\n",
       "      <td>6701.000000</td>\n",
       "      <td>6699.000000</td>\n",
       "    </tr>\n",
       "    <tr>\n",
       "      <th>mean</th>\n",
       "      <td>33.620859</td>\n",
       "      <td>8.094687</td>\n",
       "      <td>115326.964771</td>\n",
       "    </tr>\n",
       "    <tr>\n",
       "      <th>std</th>\n",
       "      <td>7.614633</td>\n",
       "      <td>6.059003</td>\n",
       "      <td>52786.183911</td>\n",
       "    </tr>\n",
       "    <tr>\n",
       "      <th>min</th>\n",
       "      <td>21.000000</td>\n",
       "      <td>0.000000</td>\n",
       "      <td>350.000000</td>\n",
       "    </tr>\n",
       "    <tr>\n",
       "      <th>25%</th>\n",
       "      <td>28.000000</td>\n",
       "      <td>3.000000</td>\n",
       "      <td>70000.000000</td>\n",
       "    </tr>\n",
       "    <tr>\n",
       "      <th>50%</th>\n",
       "      <td>32.000000</td>\n",
       "      <td>7.000000</td>\n",
       "      <td>115000.000000</td>\n",
       "    </tr>\n",
       "    <tr>\n",
       "      <th>75%</th>\n",
       "      <td>38.000000</td>\n",
       "      <td>12.000000</td>\n",
       "      <td>160000.000000</td>\n",
       "    </tr>\n",
       "    <tr>\n",
       "      <th>max</th>\n",
       "      <td>62.000000</td>\n",
       "      <td>34.000000</td>\n",
       "      <td>250000.000000</td>\n",
       "    </tr>\n",
       "  </tbody>\n",
       "</table>\n",
       "</div>"
      ],
      "text/plain": [
       "               Age  Years of Experience         Salary\n",
       "count  6702.000000          6701.000000    6699.000000\n",
       "mean     33.620859             8.094687  115326.964771\n",
       "std       7.614633             6.059003   52786.183911\n",
       "min      21.000000             0.000000     350.000000\n",
       "25%      28.000000             3.000000   70000.000000\n",
       "50%      32.000000             7.000000  115000.000000\n",
       "75%      38.000000            12.000000  160000.000000\n",
       "max      62.000000            34.000000  250000.000000"
      ]
     },
     "execution_count": 7,
     "metadata": {},
     "output_type": "execute_result"
    }
   ],
   "source": [
    "df.describe()"
   ]
  },
  {
   "cell_type": "code",
   "execution_count": 8,
   "id": "1f4be746",
   "metadata": {
    "execution": {
     "iopub.execute_input": "2023-07-07T14:22:08.408273Z",
     "iopub.status.busy": "2023-07-07T14:22:08.406249Z",
     "iopub.status.idle": "2023-07-07T14:22:08.447753Z",
     "shell.execute_reply": "2023-07-07T14:22:08.446319Z"
    },
    "papermill": {
     "duration": 0.05675,
     "end_time": "2023-07-07T14:22:08.450842",
     "exception": false,
     "start_time": "2023-07-07T14:22:08.394092",
     "status": "completed"
    },
    "tags": []
   },
   "outputs": [
    {
     "name": "stdout",
     "output_type": "stream",
     "text": [
      "Coluna Education Level\n"
     ]
    },
    {
     "data": {
      "text/html": [
       "<div>\n",
       "<style scoped>\n",
       "    .dataframe tbody tr th:only-of-type {\n",
       "        vertical-align: middle;\n",
       "    }\n",
       "\n",
       "    .dataframe tbody tr th {\n",
       "        vertical-align: top;\n",
       "    }\n",
       "\n",
       "    .dataframe thead th {\n",
       "        text-align: right;\n",
       "    }\n",
       "</style>\n",
       "<table border=\"1\" class=\"dataframe\">\n",
       "  <thead>\n",
       "    <tr style=\"text-align: right;\">\n",
       "      <th></th>\n",
       "      <th>Age</th>\n",
       "      <th>Gender</th>\n",
       "      <th>Education Level</th>\n",
       "      <th>Job Title</th>\n",
       "      <th>Years of Experience</th>\n",
       "      <th>Salary</th>\n",
       "    </tr>\n",
       "  </thead>\n",
       "  <tbody>\n",
       "    <tr>\n",
       "      <th>2011</th>\n",
       "      <td>27.0</td>\n",
       "      <td>Male</td>\n",
       "      <td>NaN</td>\n",
       "      <td>Developer</td>\n",
       "      <td>7.0</td>\n",
       "      <td>100000.0</td>\n",
       "    </tr>\n",
       "  </tbody>\n",
       "</table>\n",
       "</div>"
      ],
      "text/plain": [
       "       Age Gender Education Level  Job Title  Years of Experience    Salary\n",
       "2011  27.0   Male             NaN  Developer                  7.0  100000.0"
      ]
     },
     "metadata": {},
     "output_type": "display_data"
    },
    {
     "name": "stdout",
     "output_type": "stream",
     "text": [
      "Coluna Years of Experience\n"
     ]
    },
    {
     "data": {
      "text/html": [
       "<div>\n",
       "<style scoped>\n",
       "    .dataframe tbody tr th:only-of-type {\n",
       "        vertical-align: middle;\n",
       "    }\n",
       "\n",
       "    .dataframe tbody tr th {\n",
       "        vertical-align: top;\n",
       "    }\n",
       "\n",
       "    .dataframe thead th {\n",
       "        text-align: right;\n",
       "    }\n",
       "</style>\n",
       "<table border=\"1\" class=\"dataframe\">\n",
       "  <thead>\n",
       "    <tr style=\"text-align: right;\">\n",
       "      <th></th>\n",
       "      <th>Age</th>\n",
       "      <th>Gender</th>\n",
       "      <th>Education Level</th>\n",
       "      <th>Job Title</th>\n",
       "      <th>Years of Experience</th>\n",
       "      <th>Salary</th>\n",
       "    </tr>\n",
       "  </thead>\n",
       "  <tbody>\n",
       "    <tr>\n",
       "      <th>5247</th>\n",
       "      <td>26.0</td>\n",
       "      <td>Female</td>\n",
       "      <td>Bachelor's Degree</td>\n",
       "      <td>Social M</td>\n",
       "      <td>NaN</td>\n",
       "      <td>NaN</td>\n",
       "    </tr>\n",
       "  </tbody>\n",
       "</table>\n",
       "</div>"
      ],
      "text/plain": [
       "       Age  Gender    Education Level Job Title  Years of Experience  Salary\n",
       "5247  26.0  Female  Bachelor's Degree  Social M                  NaN     NaN"
      ]
     },
     "metadata": {},
     "output_type": "display_data"
    },
    {
     "name": "stdout",
     "output_type": "stream",
     "text": [
      "Coluna Salary\n"
     ]
    },
    {
     "data": {
      "text/html": [
       "<div>\n",
       "<style scoped>\n",
       "    .dataframe tbody tr th:only-of-type {\n",
       "        vertical-align: middle;\n",
       "    }\n",
       "\n",
       "    .dataframe tbody tr th {\n",
       "        vertical-align: top;\n",
       "    }\n",
       "\n",
       "    .dataframe thead th {\n",
       "        text-align: right;\n",
       "    }\n",
       "</style>\n",
       "<table border=\"1\" class=\"dataframe\">\n",
       "  <thead>\n",
       "    <tr style=\"text-align: right;\">\n",
       "      <th></th>\n",
       "      <th>Age</th>\n",
       "      <th>Gender</th>\n",
       "      <th>Education Level</th>\n",
       "      <th>Job Title</th>\n",
       "      <th>Years of Experience</th>\n",
       "      <th>Salary</th>\n",
       "    </tr>\n",
       "  </thead>\n",
       "  <tbody>\n",
       "    <tr>\n",
       "      <th>3136</th>\n",
       "      <td>31.0</td>\n",
       "      <td>Male</td>\n",
       "      <td>Master's Degree</td>\n",
       "      <td>Full Stack Engineer</td>\n",
       "      <td>8.0</td>\n",
       "      <td>NaN</td>\n",
       "    </tr>\n",
       "    <tr>\n",
       "      <th>5247</th>\n",
       "      <td>26.0</td>\n",
       "      <td>Female</td>\n",
       "      <td>Bachelor's Degree</td>\n",
       "      <td>Social M</td>\n",
       "      <td>NaN</td>\n",
       "      <td>NaN</td>\n",
       "    </tr>\n",
       "    <tr>\n",
       "      <th>6455</th>\n",
       "      <td>36.0</td>\n",
       "      <td>Male</td>\n",
       "      <td>Bachelor's Degree</td>\n",
       "      <td>Sales Director</td>\n",
       "      <td>6.0</td>\n",
       "      <td>NaN</td>\n",
       "    </tr>\n",
       "  </tbody>\n",
       "</table>\n",
       "</div>"
      ],
      "text/plain": [
       "       Age  Gender    Education Level            Job Title  \\\n",
       "3136  31.0    Male    Master's Degree  Full Stack Engineer   \n",
       "5247  26.0  Female  Bachelor's Degree             Social M   \n",
       "6455  36.0    Male  Bachelor's Degree       Sales Director   \n",
       "\n",
       "      Years of Experience  Salary  \n",
       "3136                  8.0     NaN  \n",
       "5247                  NaN     NaN  \n",
       "6455                  6.0     NaN  "
      ]
     },
     "metadata": {},
     "output_type": "display_data"
    }
   ],
   "source": [
    "for c in ['Education Level', 'Years of Experience', 'Salary']:\n",
    "    print(f'Coluna {c}')\n",
    "    display(df[df[c].isnull() == True])"
   ]
  },
  {
   "cell_type": "code",
   "execution_count": 9,
   "id": "519444b7",
   "metadata": {
    "execution": {
     "iopub.execute_input": "2023-07-07T14:22:08.473261Z",
     "iopub.status.busy": "2023-07-07T14:22:08.472818Z",
     "iopub.status.idle": "2023-07-07T14:22:08.483428Z",
     "shell.execute_reply": "2023-07-07T14:22:08.482451Z"
    },
    "papermill": {
     "duration": 0.024784,
     "end_time": "2023-07-07T14:22:08.486095",
     "exception": false,
     "start_time": "2023-07-07T14:22:08.461311",
     "status": "completed"
    },
    "tags": []
   },
   "outputs": [],
   "source": [
    "df.loc[lambda f: (f['Job Title'] == 'Sales Director') & (f['Salary'].isnull() == True) & (f['Years of Experience'] == 6.0), 'Salary'] = 75000.0"
   ]
  },
  {
   "cell_type": "code",
   "execution_count": 10,
   "id": "a192d5ac",
   "metadata": {
    "execution": {
     "iopub.execute_input": "2023-07-07T14:22:08.510518Z",
     "iopub.status.busy": "2023-07-07T14:22:08.510051Z",
     "iopub.status.idle": "2023-07-07T14:22:08.519979Z",
     "shell.execute_reply": "2023-07-07T14:22:08.518571Z"
    },
    "papermill": {
     "duration": 0.025028,
     "end_time": "2023-07-07T14:22:08.522829",
     "exception": false,
     "start_time": "2023-07-07T14:22:08.497801",
     "status": "completed"
    },
    "tags": []
   },
   "outputs": [],
   "source": [
    "df.loc[lambda f: (f['Job Title'] == 'Full Stack Engineer') & (f['Years of Experience'] == 8.0) & (f['Salary'].isnull() == True), 'Salary'] = 140000.0"
   ]
  },
  {
   "cell_type": "code",
   "execution_count": 11,
   "id": "11485b01",
   "metadata": {
    "execution": {
     "iopub.execute_input": "2023-07-07T14:22:08.547888Z",
     "iopub.status.busy": "2023-07-07T14:22:08.547429Z",
     "iopub.status.idle": "2023-07-07T14:22:08.562622Z",
     "shell.execute_reply": "2023-07-07T14:22:08.561373Z"
    },
    "papermill": {
     "duration": 0.031077,
     "end_time": "2023-07-07T14:22:08.565855",
     "exception": false,
     "start_time": "2023-07-07T14:22:08.534778",
     "status": "completed"
    },
    "tags": []
   },
   "outputs": [],
   "source": [
    "df.dropna(inplace=True)"
   ]
  },
  {
   "cell_type": "code",
   "execution_count": 12,
   "id": "ae2728d8",
   "metadata": {
    "execution": {
     "iopub.execute_input": "2023-07-07T14:22:08.589722Z",
     "iopub.status.busy": "2023-07-07T14:22:08.589321Z",
     "iopub.status.idle": "2023-07-07T14:22:08.596889Z",
     "shell.execute_reply": "2023-07-07T14:22:08.595702Z"
    },
    "papermill": {
     "duration": 0.022767,
     "end_time": "2023-07-07T14:22:08.599512",
     "exception": false,
     "start_time": "2023-07-07T14:22:08.576745",
     "status": "completed"
    },
    "tags": []
   },
   "outputs": [],
   "source": [
    "df.dropna(subset='Years of Experience', inplace=True)"
   ]
  },
  {
   "cell_type": "code",
   "execution_count": 13,
   "id": "64491bac",
   "metadata": {
    "execution": {
     "iopub.execute_input": "2023-07-07T14:22:08.621552Z",
     "iopub.status.busy": "2023-07-07T14:22:08.621094Z",
     "iopub.status.idle": "2023-07-07T14:22:08.638757Z",
     "shell.execute_reply": "2023-07-07T14:22:08.637079Z"
    },
    "papermill": {
     "duration": 0.032845,
     "end_time": "2023-07-07T14:22:08.642311",
     "exception": false,
     "start_time": "2023-07-07T14:22:08.609466",
     "status": "completed"
    },
    "tags": []
   },
   "outputs": [
    {
     "data": {
      "text/html": [
       "<div>\n",
       "<style scoped>\n",
       "    .dataframe tbody tr th:only-of-type {\n",
       "        vertical-align: middle;\n",
       "    }\n",
       "\n",
       "    .dataframe tbody tr th {\n",
       "        vertical-align: top;\n",
       "    }\n",
       "\n",
       "    .dataframe thead th {\n",
       "        text-align: right;\n",
       "    }\n",
       "</style>\n",
       "<table border=\"1\" class=\"dataframe\">\n",
       "  <thead>\n",
       "    <tr style=\"text-align: right;\">\n",
       "      <th></th>\n",
       "      <th>Age</th>\n",
       "      <th>Gender</th>\n",
       "      <th>Education Level</th>\n",
       "      <th>Job Title</th>\n",
       "      <th>Years of Experience</th>\n",
       "      <th>Salary</th>\n",
       "    </tr>\n",
       "  </thead>\n",
       "  <tbody>\n",
       "    <tr>\n",
       "      <th>259</th>\n",
       "      <td>29.0</td>\n",
       "      <td>Male</td>\n",
       "      <td>Bachelor's</td>\n",
       "      <td>Junior Business Operations Analyst</td>\n",
       "      <td>1.5</td>\n",
       "      <td>350.0</td>\n",
       "    </tr>\n",
       "    <tr>\n",
       "      <th>1890</th>\n",
       "      <td>25.0</td>\n",
       "      <td>Female</td>\n",
       "      <td>Bachelor's Degree</td>\n",
       "      <td>Front end Developer</td>\n",
       "      <td>1.0</td>\n",
       "      <td>550.0</td>\n",
       "    </tr>\n",
       "    <tr>\n",
       "      <th>2654</th>\n",
       "      <td>23.0</td>\n",
       "      <td>Male</td>\n",
       "      <td>PhD</td>\n",
       "      <td>Software Engineer Manager</td>\n",
       "      <td>1.0</td>\n",
       "      <td>579.0</td>\n",
       "    </tr>\n",
       "    <tr>\n",
       "      <th>4633</th>\n",
       "      <td>31.0</td>\n",
       "      <td>Female</td>\n",
       "      <td>Bachelor's Degree</td>\n",
       "      <td>Junior HR Coordinator</td>\n",
       "      <td>4.0</td>\n",
       "      <td>500.0</td>\n",
       "    </tr>\n",
       "  </tbody>\n",
       "</table>\n",
       "</div>"
      ],
      "text/plain": [
       "       Age  Gender    Education Level                           Job Title  \\\n",
       "259   29.0    Male         Bachelor's  Junior Business Operations Analyst   \n",
       "1890  25.0  Female  Bachelor's Degree                 Front end Developer   \n",
       "2654  23.0    Male                PhD           Software Engineer Manager   \n",
       "4633  31.0  Female  Bachelor's Degree               Junior HR Coordinator   \n",
       "\n",
       "      Years of Experience  Salary  \n",
       "259                   1.5   350.0  \n",
       "1890                  1.0   550.0  \n",
       "2654                  1.0   579.0  \n",
       "4633                  4.0   500.0  "
      ]
     },
     "execution_count": 13,
     "metadata": {},
     "output_type": "execute_result"
    }
   ],
   "source": [
    "df[df['Salary'] <= 16000]"
   ]
  },
  {
   "cell_type": "code",
   "execution_count": 14,
   "id": "131488ff",
   "metadata": {
    "execution": {
     "iopub.execute_input": "2023-07-07T14:22:08.665829Z",
     "iopub.status.busy": "2023-07-07T14:22:08.665403Z",
     "iopub.status.idle": "2023-07-07T14:22:08.673343Z",
     "shell.execute_reply": "2023-07-07T14:22:08.671657Z"
    },
    "papermill": {
     "duration": 0.022883,
     "end_time": "2023-07-07T14:22:08.675916",
     "exception": false,
     "start_time": "2023-07-07T14:22:08.653033",
     "status": "completed"
    },
    "tags": []
   },
   "outputs": [],
   "source": [
    "ind = df[df['Salary'] <= 16000].index\n",
    "df.drop(index=ind, inplace=True)"
   ]
  },
  {
   "cell_type": "code",
   "execution_count": 15,
   "id": "d97a4641",
   "metadata": {
    "execution": {
     "iopub.execute_input": "2023-07-07T14:22:08.698376Z",
     "iopub.status.busy": "2023-07-07T14:22:08.697931Z",
     "iopub.status.idle": "2023-07-07T14:22:08.714376Z",
     "shell.execute_reply": "2023-07-07T14:22:08.713174Z"
    },
    "papermill": {
     "duration": 0.030695,
     "end_time": "2023-07-07T14:22:08.717022",
     "exception": false,
     "start_time": "2023-07-07T14:22:08.686327",
     "status": "completed"
    },
    "tags": []
   },
   "outputs": [
    {
     "data": {
      "text/plain": [
       "Age                    0\n",
       "Gender                 0\n",
       "Education Level        0\n",
       "Job Title              0\n",
       "Years of Experience    0\n",
       "Salary                 0\n",
       "dtype: int64"
      ]
     },
     "execution_count": 15,
     "metadata": {},
     "output_type": "execute_result"
    }
   ],
   "source": [
    "df.isnull().sum()"
   ]
  },
  {
   "cell_type": "code",
   "execution_count": 16,
   "id": "700f803a",
   "metadata": {
    "execution": {
     "iopub.execute_input": "2023-07-07T14:22:08.740489Z",
     "iopub.status.busy": "2023-07-07T14:22:08.740055Z",
     "iopub.status.idle": "2023-07-07T14:22:08.759752Z",
     "shell.execute_reply": "2023-07-07T14:22:08.758512Z"
    },
    "papermill": {
     "duration": 0.034654,
     "end_time": "2023-07-07T14:22:08.762723",
     "exception": false,
     "start_time": "2023-07-07T14:22:08.728069",
     "status": "completed"
    },
    "tags": []
   },
   "outputs": [
    {
     "name": "stdout",
     "output_type": "stream",
     "text": [
      "<class 'pandas.core.frame.DataFrame'>\n",
      "Int64Index: 6696 entries, 0 to 6703\n",
      "Data columns (total 6 columns):\n",
      " #   Column               Non-Null Count  Dtype  \n",
      "---  ------               --------------  -----  \n",
      " 0   Age                  6696 non-null   float64\n",
      " 1   Gender               6696 non-null   object \n",
      " 2   Education Level      6696 non-null   object \n",
      " 3   Job Title            6696 non-null   object \n",
      " 4   Years of Experience  6696 non-null   float64\n",
      " 5   Salary               6696 non-null   float64\n",
      "dtypes: float64(3), object(3)\n",
      "memory usage: 366.2+ KB\n"
     ]
    }
   ],
   "source": [
    "df.info()"
   ]
  },
  {
   "cell_type": "code",
   "execution_count": 17,
   "id": "bff7f7e9",
   "metadata": {
    "execution": {
     "iopub.execute_input": "2023-07-07T14:22:08.786026Z",
     "iopub.status.busy": "2023-07-07T14:22:08.785631Z",
     "iopub.status.idle": "2023-07-07T14:22:08.795646Z",
     "shell.execute_reply": "2023-07-07T14:22:08.794414Z"
    },
    "papermill": {
     "duration": 0.02444,
     "end_time": "2023-07-07T14:22:08.797828",
     "exception": false,
     "start_time": "2023-07-07T14:22:08.773388",
     "status": "completed"
    },
    "tags": []
   },
   "outputs": [
    {
     "data": {
      "text/plain": [
       "Male      3671\n",
       "Female    3011\n",
       "Other       14\n",
       "Name: Gender, dtype: int64"
      ]
     },
     "execution_count": 17,
     "metadata": {},
     "output_type": "execute_result"
    }
   ],
   "source": [
    "df['Gender'].value_counts()"
   ]
  },
  {
   "cell_type": "code",
   "execution_count": 18,
   "id": "d4b7c6da",
   "metadata": {
    "execution": {
     "iopub.execute_input": "2023-07-07T14:22:08.821825Z",
     "iopub.status.busy": "2023-07-07T14:22:08.821425Z",
     "iopub.status.idle": "2023-07-07T14:22:08.831353Z",
     "shell.execute_reply": "2023-07-07T14:22:08.830123Z"
    },
    "papermill": {
     "duration": 0.025129,
     "end_time": "2023-07-07T14:22:08.833774",
     "exception": false,
     "start_time": "2023-07-07T14:22:08.808645",
     "status": "completed"
    },
    "tags": []
   },
   "outputs": [
    {
     "data": {
      "text/plain": [
       "Bachelor's Degree    2264\n",
       "Master's Degree      1573\n",
       "PhD                  1367\n",
       "Bachelor's            755\n",
       "High School           448\n",
       "Master's              288\n",
       "phD                     1\n",
       "Name: Education Level, dtype: int64"
      ]
     },
     "execution_count": 18,
     "metadata": {},
     "output_type": "execute_result"
    }
   ],
   "source": [
    "df['Education Level'].value_counts()"
   ]
  },
  {
   "cell_type": "code",
   "execution_count": 19,
   "id": "7fe127e3",
   "metadata": {
    "execution": {
     "iopub.execute_input": "2023-07-07T14:22:08.857868Z",
     "iopub.status.busy": "2023-07-07T14:22:08.856896Z",
     "iopub.status.idle": "2023-07-07T14:22:08.867182Z",
     "shell.execute_reply": "2023-07-07T14:22:08.865770Z"
    },
    "papermill": {
     "duration": 0.026028,
     "end_time": "2023-07-07T14:22:08.870480",
     "exception": false,
     "start_time": "2023-07-07T14:22:08.844452",
     "status": "completed"
    },
    "tags": []
   },
   "outputs": [],
   "source": [
    "df['Education Level'].replace(\"Master's\", \"Master's Degree\", inplace=True)\n",
    "df['Education Level'].replace(\"Bachelor's\", \"bachelor's Degree\", inplace=True)\n",
    "df['Education Level'].replace(\"phD\", \"PhD\", inplace=True)"
   ]
  },
  {
   "cell_type": "code",
   "execution_count": 20,
   "id": "1da319ae",
   "metadata": {
    "execution": {
     "iopub.execute_input": "2023-07-07T14:22:08.893962Z",
     "iopub.status.busy": "2023-07-07T14:22:08.893544Z",
     "iopub.status.idle": "2023-07-07T14:22:08.904148Z",
     "shell.execute_reply": "2023-07-07T14:22:08.903313Z"
    },
    "papermill": {
     "duration": 0.024973,
     "end_time": "2023-07-07T14:22:08.906511",
     "exception": false,
     "start_time": "2023-07-07T14:22:08.881538",
     "status": "completed"
    },
    "tags": []
   },
   "outputs": [
    {
     "data": {
      "text/plain": [
       "Software Engineer             518\n",
       "Data Scientist                453\n",
       "Software Engineer Manager     375\n",
       "Data Analyst                  363\n",
       "Senior Project Engineer       318\n",
       "                             ... \n",
       "Account Manager                 1\n",
       "Help Desk Analyst               1\n",
       "Senior Training Specialist      1\n",
       "Junior Web Designer             1\n",
       "Software Project Manager        1\n",
       "Name: Job Title, Length: 191, dtype: int64"
      ]
     },
     "execution_count": 20,
     "metadata": {},
     "output_type": "execute_result"
    }
   ],
   "source": [
    "df['Job Title'].value_counts()"
   ]
  },
  {
   "cell_type": "code",
   "execution_count": 21,
   "id": "b0688ed1",
   "metadata": {
    "execution": {
     "iopub.execute_input": "2023-07-07T14:22:08.930921Z",
     "iopub.status.busy": "2023-07-07T14:22:08.930121Z",
     "iopub.status.idle": "2023-07-07T14:22:08.957293Z",
     "shell.execute_reply": "2023-07-07T14:22:08.955739Z"
    },
    "papermill": {
     "duration": 0.042259,
     "end_time": "2023-07-07T14:22:08.959841",
     "exception": false,
     "start_time": "2023-07-07T14:22:08.917582",
     "status": "completed"
    },
    "tags": []
   },
   "outputs": [
    {
     "name": "stdout",
     "output_type": "stream",
     "text": [
      "<class 'pandas.core.frame.DataFrame'>\n",
      "Int64Index: 6696 entries, 0 to 6703\n",
      "Data columns (total 6 columns):\n",
      " #   Column               Non-Null Count  Dtype   \n",
      "---  ------               --------------  -----   \n",
      " 0   Age                  6696 non-null   uint64  \n",
      " 1   Gender               6696 non-null   category\n",
      " 2   Education Level      6696 non-null   category\n",
      " 3   Job Title            6696 non-null   category\n",
      " 4   Years of Experience  6696 non-null   uint64  \n",
      " 5   Salary               6696 non-null   uint64  \n",
      "dtypes: category(3), uint64(3)\n",
      "memory usage: 241.3 KB\n"
     ]
    }
   ],
   "source": [
    "df['Age'] = df['Age'].astype(np.uint)\n",
    "df['Years of Experience'] = df['Years of Experience'].astype(np.uint)\n",
    "df['Gender'] = df['Gender'].astype('category')\n",
    "df['Salary'] = df['Salary'].astype(np.uint)\n",
    "df['Education Level'] = df['Education Level'].astype('category')\n",
    "df['Job Title'] = df['Job Title'].astype('category')\n",
    "df.info()"
   ]
  },
  {
   "cell_type": "code",
   "execution_count": 22,
   "id": "8d319416",
   "metadata": {
    "execution": {
     "iopub.execute_input": "2023-07-07T14:22:08.984863Z",
     "iopub.status.busy": "2023-07-07T14:22:08.984089Z",
     "iopub.status.idle": "2023-07-07T14:22:09.004917Z",
     "shell.execute_reply": "2023-07-07T14:22:09.004075Z"
    },
    "papermill": {
     "duration": 0.035888,
     "end_time": "2023-07-07T14:22:09.007372",
     "exception": false,
     "start_time": "2023-07-07T14:22:08.971484",
     "status": "completed"
    },
    "tags": []
   },
   "outputs": [
    {
     "data": {
      "text/html": [
       "<div>\n",
       "<style scoped>\n",
       "    .dataframe tbody tr th:only-of-type {\n",
       "        vertical-align: middle;\n",
       "    }\n",
       "\n",
       "    .dataframe tbody tr th {\n",
       "        vertical-align: top;\n",
       "    }\n",
       "\n",
       "    .dataframe thead th {\n",
       "        text-align: right;\n",
       "    }\n",
       "</style>\n",
       "<table border=\"1\" class=\"dataframe\">\n",
       "  <thead>\n",
       "    <tr style=\"text-align: right;\">\n",
       "      <th></th>\n",
       "      <th>Age</th>\n",
       "      <th>Years of Experience</th>\n",
       "      <th>Salary</th>\n",
       "    </tr>\n",
       "  </thead>\n",
       "  <tbody>\n",
       "    <tr>\n",
       "      <th>count</th>\n",
       "      <td>6696.000000</td>\n",
       "      <td>6696.000000</td>\n",
       "      <td>6696.000000</td>\n",
       "    </tr>\n",
       "    <tr>\n",
       "      <th>mean</th>\n",
       "      <td>33.626941</td>\n",
       "      <td>8.097670</td>\n",
       "      <td>115395.513441</td>\n",
       "    </tr>\n",
       "    <tr>\n",
       "      <th>std</th>\n",
       "      <td>7.614931</td>\n",
       "      <td>6.060291</td>\n",
       "      <td>52726.136210</td>\n",
       "    </tr>\n",
       "    <tr>\n",
       "      <th>min</th>\n",
       "      <td>21.000000</td>\n",
       "      <td>0.000000</td>\n",
       "      <td>25000.000000</td>\n",
       "    </tr>\n",
       "    <tr>\n",
       "      <th>25%</th>\n",
       "      <td>28.000000</td>\n",
       "      <td>3.000000</td>\n",
       "      <td>70000.000000</td>\n",
       "    </tr>\n",
       "    <tr>\n",
       "      <th>50%</th>\n",
       "      <td>32.000000</td>\n",
       "      <td>7.000000</td>\n",
       "      <td>115000.000000</td>\n",
       "    </tr>\n",
       "    <tr>\n",
       "      <th>75%</th>\n",
       "      <td>38.000000</td>\n",
       "      <td>12.000000</td>\n",
       "      <td>160000.000000</td>\n",
       "    </tr>\n",
       "    <tr>\n",
       "      <th>max</th>\n",
       "      <td>62.000000</td>\n",
       "      <td>34.000000</td>\n",
       "      <td>250000.000000</td>\n",
       "    </tr>\n",
       "  </tbody>\n",
       "</table>\n",
       "</div>"
      ],
      "text/plain": [
       "               Age  Years of Experience         Salary\n",
       "count  6696.000000          6696.000000    6696.000000\n",
       "mean     33.626941             8.097670  115395.513441\n",
       "std       7.614931             6.060291   52726.136210\n",
       "min      21.000000             0.000000   25000.000000\n",
       "25%      28.000000             3.000000   70000.000000\n",
       "50%      32.000000             7.000000  115000.000000\n",
       "75%      38.000000            12.000000  160000.000000\n",
       "max      62.000000            34.000000  250000.000000"
      ]
     },
     "execution_count": 22,
     "metadata": {},
     "output_type": "execute_result"
    }
   ],
   "source": [
    "df.describe()"
   ]
  },
  {
   "cell_type": "code",
   "execution_count": 23,
   "id": "95e600cb",
   "metadata": {
    "execution": {
     "iopub.execute_input": "2023-07-07T14:22:09.033353Z",
     "iopub.status.busy": "2023-07-07T14:22:09.032609Z",
     "iopub.status.idle": "2023-07-07T14:22:09.055159Z",
     "shell.execute_reply": "2023-07-07T14:22:09.053908Z"
    },
    "papermill": {
     "duration": 0.038517,
     "end_time": "2023-07-07T14:22:09.057869",
     "exception": false,
     "start_time": "2023-07-07T14:22:09.019352",
     "status": "completed"
    },
    "tags": []
   },
   "outputs": [
    {
     "data": {
      "text/html": [
       "<div>\n",
       "<style scoped>\n",
       "    .dataframe tbody tr th:only-of-type {\n",
       "        vertical-align: middle;\n",
       "    }\n",
       "\n",
       "    .dataframe tbody tr th {\n",
       "        vertical-align: top;\n",
       "    }\n",
       "\n",
       "    .dataframe thead th {\n",
       "        text-align: right;\n",
       "    }\n",
       "</style>\n",
       "<table border=\"1\" class=\"dataframe\">\n",
       "  <thead>\n",
       "    <tr style=\"text-align: right;\">\n",
       "      <th></th>\n",
       "      <th>Age</th>\n",
       "      <th>Gender</th>\n",
       "      <th>Education Level</th>\n",
       "      <th>Job Title</th>\n",
       "      <th>Years of Experience</th>\n",
       "      <th>Salary</th>\n",
       "    </tr>\n",
       "  </thead>\n",
       "  <tbody>\n",
       "    <tr>\n",
       "      <th>0</th>\n",
       "      <td>32</td>\n",
       "      <td>Male</td>\n",
       "      <td>bachelor's Degree</td>\n",
       "      <td>Software Engineer</td>\n",
       "      <td>5</td>\n",
       "      <td>90000</td>\n",
       "    </tr>\n",
       "    <tr>\n",
       "      <th>1</th>\n",
       "      <td>28</td>\n",
       "      <td>Female</td>\n",
       "      <td>Master's Degree</td>\n",
       "      <td>Data Analyst</td>\n",
       "      <td>3</td>\n",
       "      <td>65000</td>\n",
       "    </tr>\n",
       "    <tr>\n",
       "      <th>2</th>\n",
       "      <td>45</td>\n",
       "      <td>Male</td>\n",
       "      <td>PhD</td>\n",
       "      <td>Senior Manager</td>\n",
       "      <td>15</td>\n",
       "      <td>150000</td>\n",
       "    </tr>\n",
       "    <tr>\n",
       "      <th>3</th>\n",
       "      <td>36</td>\n",
       "      <td>Female</td>\n",
       "      <td>bachelor's Degree</td>\n",
       "      <td>Sales Associate</td>\n",
       "      <td>7</td>\n",
       "      <td>60000</td>\n",
       "    </tr>\n",
       "    <tr>\n",
       "      <th>4</th>\n",
       "      <td>52</td>\n",
       "      <td>Male</td>\n",
       "      <td>Master's Degree</td>\n",
       "      <td>Director</td>\n",
       "      <td>20</td>\n",
       "      <td>200000</td>\n",
       "    </tr>\n",
       "    <tr>\n",
       "      <th>...</th>\n",
       "      <td>...</td>\n",
       "      <td>...</td>\n",
       "      <td>...</td>\n",
       "      <td>...</td>\n",
       "      <td>...</td>\n",
       "      <td>...</td>\n",
       "    </tr>\n",
       "    <tr>\n",
       "      <th>6699</th>\n",
       "      <td>49</td>\n",
       "      <td>Female</td>\n",
       "      <td>PhD</td>\n",
       "      <td>Director of Marketing</td>\n",
       "      <td>20</td>\n",
       "      <td>200000</td>\n",
       "    </tr>\n",
       "    <tr>\n",
       "      <th>6700</th>\n",
       "      <td>32</td>\n",
       "      <td>Male</td>\n",
       "      <td>High School</td>\n",
       "      <td>Sales Associate</td>\n",
       "      <td>3</td>\n",
       "      <td>50000</td>\n",
       "    </tr>\n",
       "    <tr>\n",
       "      <th>6701</th>\n",
       "      <td>30</td>\n",
       "      <td>Female</td>\n",
       "      <td>Bachelor's Degree</td>\n",
       "      <td>Financial Manager</td>\n",
       "      <td>4</td>\n",
       "      <td>55000</td>\n",
       "    </tr>\n",
       "    <tr>\n",
       "      <th>6702</th>\n",
       "      <td>46</td>\n",
       "      <td>Male</td>\n",
       "      <td>Master's Degree</td>\n",
       "      <td>Marketing Manager</td>\n",
       "      <td>14</td>\n",
       "      <td>140000</td>\n",
       "    </tr>\n",
       "    <tr>\n",
       "      <th>6703</th>\n",
       "      <td>26</td>\n",
       "      <td>Female</td>\n",
       "      <td>High School</td>\n",
       "      <td>Sales Executive</td>\n",
       "      <td>1</td>\n",
       "      <td>35000</td>\n",
       "    </tr>\n",
       "  </tbody>\n",
       "</table>\n",
       "<p>6696 rows × 6 columns</p>\n",
       "</div>"
      ],
      "text/plain": [
       "      Age  Gender    Education Level              Job Title  \\\n",
       "0      32    Male  bachelor's Degree      Software Engineer   \n",
       "1      28  Female    Master's Degree           Data Analyst   \n",
       "2      45    Male                PhD         Senior Manager   \n",
       "3      36  Female  bachelor's Degree        Sales Associate   \n",
       "4      52    Male    Master's Degree               Director   \n",
       "...   ...     ...                ...                    ...   \n",
       "6699   49  Female                PhD  Director of Marketing   \n",
       "6700   32    Male        High School        Sales Associate   \n",
       "6701   30  Female  Bachelor's Degree      Financial Manager   \n",
       "6702   46    Male    Master's Degree      Marketing Manager   \n",
       "6703   26  Female        High School        Sales Executive   \n",
       "\n",
       "      Years of Experience  Salary  \n",
       "0                       5   90000  \n",
       "1                       3   65000  \n",
       "2                      15  150000  \n",
       "3                       7   60000  \n",
       "4                      20  200000  \n",
       "...                   ...     ...  \n",
       "6699                   20  200000  \n",
       "6700                    3   50000  \n",
       "6701                    4   55000  \n",
       "6702                   14  140000  \n",
       "6703                    1   35000  \n",
       "\n",
       "[6696 rows x 6 columns]"
      ]
     },
     "execution_count": 23,
     "metadata": {},
     "output_type": "execute_result"
    }
   ],
   "source": [
    "df"
   ]
  },
  {
   "cell_type": "code",
   "execution_count": null,
   "id": "dd2dc0a4",
   "metadata": {
    "papermill": {
     "duration": 0.012785,
     "end_time": "2023-07-07T14:22:09.083086",
     "exception": false,
     "start_time": "2023-07-07T14:22:09.070301",
     "status": "completed"
    },
    "tags": []
   },
   "outputs": [],
   "source": []
  }
 ],
 "metadata": {
  "kernelspec": {
   "display_name": "Python 3",
   "language": "python",
   "name": "python3"
  },
  "language_info": {
   "codemirror_mode": {
    "name": "ipython",
    "version": 3
   },
   "file_extension": ".py",
   "mimetype": "text/x-python",
   "name": "python",
   "nbconvert_exporter": "python",
   "pygments_lexer": "ipython3",
   "version": "3.10.10"
  },
  "papermill": {
   "default_parameters": {},
   "duration": 16.014265,
   "end_time": "2023-07-07T14:22:10.018859",
   "environment_variables": {},
   "exception": null,
   "input_path": "__notebook__.ipynb",
   "output_path": "__notebook__.ipynb",
   "parameters": {},
   "start_time": "2023-07-07T14:21:54.004594",
   "version": "2.4.0"
  }
 },
 "nbformat": 4,
 "nbformat_minor": 5
}
