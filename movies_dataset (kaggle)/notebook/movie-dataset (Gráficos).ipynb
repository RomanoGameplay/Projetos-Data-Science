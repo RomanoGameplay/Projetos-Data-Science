{
 "cells": [
  {
   "cell_type": "code",
   "execution_count": 1,
   "id": "3196d6c6",
   "metadata": {},
   "outputs": [],
   "source": [
    "import os\n",
    "from pathlib import Path\n",
    "import pandas as pd"
   ]
  },
  {
   "cell_type": "code",
   "execution_count": 9,
   "id": "a72d0691",
   "metadata": {},
   "outputs": [],
   "source": [
    "PROJECT_PATH = os.path.dirname(os.path.dirname(os.path.abspath('movie-dataset (Gráficos)')))\n",
    "os.chdir(PROJECT_PATH)\n",
    "DADOS_PATH = PROJECT_PATH / 'dados' / 'saida' / 'movies_dataset.csv'\n",
    "df = pd.re"
   ]
  },
  {
   "cell_type": "code",
   "execution_count": 10,
   "id": "8f97915c",
   "metadata": {},
   "outputs": [
    {
     "data": {
      "text/plain": [
       "['run.py', 'dados', 'logs', 'src', 'notebook']"
      ]
     },
     "execution_count": 10,
     "metadata": {},
     "output_type": "execute_result"
    }
   ],
   "source": [
    "os.listdir()"
   ]
  },
  {
   "cell_type": "code",
   "execution_count": null,
   "id": "be8113db",
   "metadata": {},
   "outputs": [],
   "source": []
  }
 ],
 "metadata": {
  "kernelspec": {
   "display_name": "Python 3 (ipykernel)",
   "language": "python",
   "name": "python3"
  },
  "language_info": {
   "codemirror_mode": {
    "name": "ipython",
    "version": 3
   },
   "file_extension": ".py",
   "mimetype": "text/x-python",
   "name": "python",
   "nbconvert_exporter": "python",
   "pygments_lexer": "ipython3",
   "version": "3.9.2"
  }
 },
 "nbformat": 4,
 "nbformat_minor": 5
}
