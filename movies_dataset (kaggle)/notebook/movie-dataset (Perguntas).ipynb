{
 "cells": [
  {
   "cell_type": "code",
   "execution_count": 1,
   "id": "02a46cb6",
   "metadata": {},
   "outputs": [],
   "source": [
    "import os\n",
    "from pathlib import Path\n",
    "import pandas as pd\n",
    "\n",
    "%matplotlib inline"
   ]
  },
  {
   "cell_type": "code",
   "execution_count": 2,
   "id": "36eb9751",
   "metadata": {},
   "outputs": [],
   "source": [
    "PROJECT_PATH = Path(os.path.dirname(os.path.dirname(os.path.abspath('movie-dataset (Gráficos)'))))\n",
    "DADOS_PATH = PROJECT_PATH / 'dados' / 'saida' / 'movies.csv'"
   ]
  },
  {
   "cell_type": "code",
   "execution_count": 3,
   "id": "36704166",
   "metadata": {
    "scrolled": false
   },
   "outputs": [
    {
     "data": {
      "text/html": [
       "<div>\n",
       "<style scoped>\n",
       "    .dataframe tbody tr th:only-of-type {\n",
       "        vertical-align: middle;\n",
       "    }\n",
       "\n",
       "    .dataframe tbody tr th {\n",
       "        vertical-align: top;\n",
       "    }\n",
       "\n",
       "    .dataframe thead th {\n",
       "        text-align: right;\n",
       "    }\n",
       "</style>\n",
       "<table border=\"1\" class=\"dataframe\">\n",
       "  <thead>\n",
       "    <tr style=\"text-align: right;\">\n",
       "      <th></th>\n",
       "      <th>name</th>\n",
       "      <th>rating</th>\n",
       "      <th>genre</th>\n",
       "      <th>score</th>\n",
       "      <th>votes</th>\n",
       "      <th>director</th>\n",
       "      <th>writer</th>\n",
       "      <th>star</th>\n",
       "      <th>country</th>\n",
       "      <th>budget</th>\n",
       "      <th>gross</th>\n",
       "      <th>company</th>\n",
       "      <th>runtime</th>\n",
       "      <th>date</th>\n",
       "      <th>liquid</th>\n",
       "    </tr>\n",
       "  </thead>\n",
       "  <tbody>\n",
       "    <tr>\n",
       "      <th>0</th>\n",
       "      <td>The Shining</td>\n",
       "      <td>R</td>\n",
       "      <td>Drama</td>\n",
       "      <td>8.4</td>\n",
       "      <td>927000.0</td>\n",
       "      <td>Stanley Kubrick</td>\n",
       "      <td>Stephen King</td>\n",
       "      <td>Jack Nicholson</td>\n",
       "      <td>United States</td>\n",
       "      <td>19000000.0</td>\n",
       "      <td>46998772.0</td>\n",
       "      <td>Warner Bros.</td>\n",
       "      <td>146</td>\n",
       "      <td>1980-06-13</td>\n",
       "      <td>27998772.0</td>\n",
       "    </tr>\n",
       "    <tr>\n",
       "      <th>1</th>\n",
       "      <td>The Blue Lagoon</td>\n",
       "      <td>R</td>\n",
       "      <td>Adventure</td>\n",
       "      <td>5.8</td>\n",
       "      <td>65000.0</td>\n",
       "      <td>Randal Kleiser</td>\n",
       "      <td>Henry De Vere Stacpoole</td>\n",
       "      <td>Brooke Shields</td>\n",
       "      <td>United States</td>\n",
       "      <td>4500000.0</td>\n",
       "      <td>58853106.0</td>\n",
       "      <td>Columbia Pictures</td>\n",
       "      <td>104</td>\n",
       "      <td>1980-07-02</td>\n",
       "      <td>54353106.0</td>\n",
       "    </tr>\n",
       "    <tr>\n",
       "      <th>2</th>\n",
       "      <td>Star Wars: Episode V - The Empire Strikes Back</td>\n",
       "      <td>PG</td>\n",
       "      <td>Action</td>\n",
       "      <td>8.7</td>\n",
       "      <td>1200000.0</td>\n",
       "      <td>Irvin Kershner</td>\n",
       "      <td>Leigh Brackett</td>\n",
       "      <td>Mark Hamill</td>\n",
       "      <td>United States</td>\n",
       "      <td>18000000.0</td>\n",
       "      <td>538375067.0</td>\n",
       "      <td>Lucasfilm</td>\n",
       "      <td>124</td>\n",
       "      <td>1980-06-20</td>\n",
       "      <td>520375067.0</td>\n",
       "    </tr>\n",
       "    <tr>\n",
       "      <th>3</th>\n",
       "      <td>Airplane!</td>\n",
       "      <td>PG</td>\n",
       "      <td>Comedy</td>\n",
       "      <td>7.7</td>\n",
       "      <td>221000.0</td>\n",
       "      <td>Jim Abrahams</td>\n",
       "      <td>Jim Abrahams</td>\n",
       "      <td>Robert Hays</td>\n",
       "      <td>United States</td>\n",
       "      <td>3500000.0</td>\n",
       "      <td>83453539.0</td>\n",
       "      <td>Paramount Pictures</td>\n",
       "      <td>88</td>\n",
       "      <td>1980-07-02</td>\n",
       "      <td>79953539.0</td>\n",
       "    </tr>\n",
       "    <tr>\n",
       "      <th>4</th>\n",
       "      <td>Caddyshack</td>\n",
       "      <td>R</td>\n",
       "      <td>Comedy</td>\n",
       "      <td>7.3</td>\n",
       "      <td>108000.0</td>\n",
       "      <td>Harold Ramis</td>\n",
       "      <td>Brian Doyle-Murray</td>\n",
       "      <td>Chevy Chase</td>\n",
       "      <td>United States</td>\n",
       "      <td>6000000.0</td>\n",
       "      <td>39846344.0</td>\n",
       "      <td>Orion Pictures</td>\n",
       "      <td>98</td>\n",
       "      <td>1980-07-25</td>\n",
       "      <td>33846344.0</td>\n",
       "    </tr>\n",
       "    <tr>\n",
       "      <th>...</th>\n",
       "      <td>...</td>\n",
       "      <td>...</td>\n",
       "      <td>...</td>\n",
       "      <td>...</td>\n",
       "      <td>...</td>\n",
       "      <td>...</td>\n",
       "      <td>...</td>\n",
       "      <td>...</td>\n",
       "      <td>...</td>\n",
       "      <td>...</td>\n",
       "      <td>...</td>\n",
       "      <td>...</td>\n",
       "      <td>...</td>\n",
       "      <td>...</td>\n",
       "      <td>...</td>\n",
       "    </tr>\n",
       "    <tr>\n",
       "      <th>2540</th>\n",
       "      <td>O</td>\n",
       "      <td>R</td>\n",
       "      <td>Drama</td>\n",
       "      <td>6.1</td>\n",
       "      <td>19000.0</td>\n",
       "      <td>Tim Blake Nelson</td>\n",
       "      <td>William Shakespeare</td>\n",
       "      <td>Mekhi Phifer</td>\n",
       "      <td>United States</td>\n",
       "      <td>5000000.0</td>\n",
       "      <td>19260537.0</td>\n",
       "      <td>Chickie the Cop</td>\n",
       "      <td>95</td>\n",
       "      <td>2001-08-31</td>\n",
       "      <td>14260537.0</td>\n",
       "    </tr>\n",
       "    <tr>\n",
       "      <th>2541</th>\n",
       "      <td>Birthday Girl</td>\n",
       "      <td>R</td>\n",
       "      <td>Comedy</td>\n",
       "      <td>6.1</td>\n",
       "      <td>25000.0</td>\n",
       "      <td>Jez Butterworth</td>\n",
       "      <td>Tom Butterworth</td>\n",
       "      <td>Nicole Kidman</td>\n",
       "      <td>United States</td>\n",
       "      <td>13000000.0</td>\n",
       "      <td>16171098.0</td>\n",
       "      <td>FilmFour</td>\n",
       "      <td>93</td>\n",
       "      <td>2001-02-01</td>\n",
       "      <td>3171098.0</td>\n",
       "    </tr>\n",
       "    <tr>\n",
       "      <th>2542</th>\n",
       "      <td>Made</td>\n",
       "      <td>R</td>\n",
       "      <td>Comedy</td>\n",
       "      <td>6.4</td>\n",
       "      <td>18000.0</td>\n",
       "      <td>Jon Favreau</td>\n",
       "      <td>Jon Favreau</td>\n",
       "      <td>Vince Vaughn</td>\n",
       "      <td>United States</td>\n",
       "      <td>5000000.0</td>\n",
       "      <td>5480653.0</td>\n",
       "      <td>Artisan Entertainment</td>\n",
       "      <td>95</td>\n",
       "      <td>2001-08-31</td>\n",
       "      <td>480653.0</td>\n",
       "    </tr>\n",
       "    <tr>\n",
       "      <th>2543</th>\n",
       "      <td>One Night at McCool's</td>\n",
       "      <td>R</td>\n",
       "      <td>Comedy</td>\n",
       "      <td>6.1</td>\n",
       "      <td>29000.0</td>\n",
       "      <td>Harald Zwart</td>\n",
       "      <td>Stan Seidel</td>\n",
       "      <td>Liv Tyler</td>\n",
       "      <td>United States</td>\n",
       "      <td>18000000.0</td>\n",
       "      <td>13578186.0</td>\n",
       "      <td>October Films</td>\n",
       "      <td>93</td>\n",
       "      <td>2001-04-27</td>\n",
       "      <td>-4421814.0</td>\n",
       "    </tr>\n",
       "    <tr>\n",
       "      <th>2544</th>\n",
       "      <td>Dr. Dolittle 2</td>\n",
       "      <td>PG</td>\n",
       "      <td>Comedy</td>\n",
       "      <td>4.7</td>\n",
       "      <td>42000.0</td>\n",
       "      <td>Steve Carr</td>\n",
       "      <td>Hugh Lofting</td>\n",
       "      <td>Eddie Murphy</td>\n",
       "      <td>United States</td>\n",
       "      <td>70000000.0</td>\n",
       "      <td>176104344.0</td>\n",
       "      <td>Twentieth Century Fox</td>\n",
       "      <td>87</td>\n",
       "      <td>2001-06-22</td>\n",
       "      <td>106104344.0</td>\n",
       "    </tr>\n",
       "  </tbody>\n",
       "</table>\n",
       "<p>2545 rows × 15 columns</p>\n",
       "</div>"
      ],
      "text/plain": [
       "                                                name rating      genre  score   \n",
       "0                                        The Shining      R      Drama    8.4  \\\n",
       "1                                    The Blue Lagoon      R  Adventure    5.8   \n",
       "2     Star Wars: Episode V - The Empire Strikes Back     PG     Action    8.7   \n",
       "3                                          Airplane!     PG     Comedy    7.7   \n",
       "4                                         Caddyshack      R     Comedy    7.3   \n",
       "...                                              ...    ...        ...    ...   \n",
       "2540                                               O      R      Drama    6.1   \n",
       "2541                                   Birthday Girl      R     Comedy    6.1   \n",
       "2542                                            Made      R     Comedy    6.4   \n",
       "2543                           One Night at McCool's      R     Comedy    6.1   \n",
       "2544                                  Dr. Dolittle 2     PG     Comedy    4.7   \n",
       "\n",
       "          votes          director                   writer            star   \n",
       "0      927000.0   Stanley Kubrick             Stephen King  Jack Nicholson  \\\n",
       "1       65000.0    Randal Kleiser  Henry De Vere Stacpoole  Brooke Shields   \n",
       "2     1200000.0    Irvin Kershner           Leigh Brackett     Mark Hamill   \n",
       "3      221000.0      Jim Abrahams             Jim Abrahams     Robert Hays   \n",
       "4      108000.0      Harold Ramis       Brian Doyle-Murray     Chevy Chase   \n",
       "...         ...               ...                      ...             ...   \n",
       "2540    19000.0  Tim Blake Nelson      William Shakespeare    Mekhi Phifer   \n",
       "2541    25000.0   Jez Butterworth          Tom Butterworth   Nicole Kidman   \n",
       "2542    18000.0       Jon Favreau              Jon Favreau    Vince Vaughn   \n",
       "2543    29000.0      Harald Zwart              Stan Seidel       Liv Tyler   \n",
       "2544    42000.0        Steve Carr             Hugh Lofting    Eddie Murphy   \n",
       "\n",
       "            country      budget        gross                company  runtime   \n",
       "0     United States  19000000.0   46998772.0           Warner Bros.      146  \\\n",
       "1     United States   4500000.0   58853106.0      Columbia Pictures      104   \n",
       "2     United States  18000000.0  538375067.0              Lucasfilm      124   \n",
       "3     United States   3500000.0   83453539.0     Paramount Pictures       88   \n",
       "4     United States   6000000.0   39846344.0         Orion Pictures       98   \n",
       "...             ...         ...          ...                    ...      ...   \n",
       "2540  United States   5000000.0   19260537.0        Chickie the Cop       95   \n",
       "2541  United States  13000000.0   16171098.0               FilmFour       93   \n",
       "2542  United States   5000000.0    5480653.0  Artisan Entertainment       95   \n",
       "2543  United States  18000000.0   13578186.0          October Films       93   \n",
       "2544  United States  70000000.0  176104344.0  Twentieth Century Fox       87   \n",
       "\n",
       "           date       liquid  \n",
       "0    1980-06-13   27998772.0  \n",
       "1    1980-07-02   54353106.0  \n",
       "2    1980-06-20  520375067.0  \n",
       "3    1980-07-02   79953539.0  \n",
       "4    1980-07-25   33846344.0  \n",
       "...         ...          ...  \n",
       "2540 2001-08-31   14260537.0  \n",
       "2541 2001-02-01    3171098.0  \n",
       "2542 2001-08-31     480653.0  \n",
       "2543 2001-04-27   -4421814.0  \n",
       "2544 2001-06-22  106104344.0  \n",
       "\n",
       "[2545 rows x 15 columns]"
      ]
     },
     "execution_count": 3,
     "metadata": {},
     "output_type": "execute_result"
    }
   ],
   "source": [
    "df = pd.read_csv(DADOS_PATH, parse_dates=['date'])\n",
    "df"
   ]
  },
  {
   "cell_type": "code",
   "execution_count": 4,
   "id": "22bffc04",
   "metadata": {
    "scrolled": true
   },
   "outputs": [
    {
     "name": "stdout",
     "output_type": "stream",
     "text": [
      "<class 'pandas.core.frame.DataFrame'>\n",
      "RangeIndex: 2545 entries, 0 to 2544\n",
      "Data columns (total 15 columns):\n",
      " #   Column    Non-Null Count  Dtype         \n",
      "---  ------    --------------  -----         \n",
      " 0   name      2545 non-null   object        \n",
      " 1   rating    2545 non-null   object        \n",
      " 2   genre     2545 non-null   object        \n",
      " 3   score     2545 non-null   float64       \n",
      " 4   votes     2545 non-null   float64       \n",
      " 5   director  2545 non-null   object        \n",
      " 6   writer    2545 non-null   object        \n",
      " 7   star      2545 non-null   object        \n",
      " 8   country   2545 non-null   object        \n",
      " 9   budget    2545 non-null   float64       \n",
      " 10  gross     2545 non-null   float64       \n",
      " 11  company   2545 non-null   object        \n",
      " 12  runtime   2545 non-null   int64         \n",
      " 13  date      2545 non-null   datetime64[ns]\n",
      " 14  liquid    2545 non-null   float64       \n",
      "dtypes: datetime64[ns](1), float64(5), int64(1), object(8)\n",
      "memory usage: 298.4+ KB\n"
     ]
    }
   ],
   "source": [
    "df.info()"
   ]
  },
  {
   "cell_type": "code",
   "execution_count": 5,
   "id": "d18eda55",
   "metadata": {},
   "outputs": [
    {
     "data": {
      "text/html": [
       "<div>\n",
       "<style scoped>\n",
       "    .dataframe tbody tr th:only-of-type {\n",
       "        vertical-align: middle;\n",
       "    }\n",
       "\n",
       "    .dataframe tbody tr th {\n",
       "        vertical-align: top;\n",
       "    }\n",
       "\n",
       "    .dataframe thead th {\n",
       "        text-align: right;\n",
       "    }\n",
       "</style>\n",
       "<table border=\"1\" class=\"dataframe\">\n",
       "  <thead>\n",
       "    <tr style=\"text-align: right;\">\n",
       "      <th></th>\n",
       "      <th>score</th>\n",
       "      <th>votes</th>\n",
       "      <th>budget</th>\n",
       "      <th>gross</th>\n",
       "      <th>runtime</th>\n",
       "      <th>date</th>\n",
       "      <th>liquid</th>\n",
       "    </tr>\n",
       "  </thead>\n",
       "  <tbody>\n",
       "    <tr>\n",
       "      <th>count</th>\n",
       "      <td>2545.000000</td>\n",
       "      <td>2.545000e+03</td>\n",
       "      <td>2.545000e+03</td>\n",
       "      <td>2.545000e+03</td>\n",
       "      <td>2545.000000</td>\n",
       "      <td>2545</td>\n",
       "      <td>2.545000e+03</td>\n",
       "    </tr>\n",
       "    <tr>\n",
       "      <th>mean</th>\n",
       "      <td>6.359018</td>\n",
       "      <td>7.794249e+04</td>\n",
       "      <td>2.412036e+07</td>\n",
       "      <td>5.795178e+07</td>\n",
       "      <td>107.263654</td>\n",
       "      <td>1992-09-05 08:40:33.005894016</td>\n",
       "      <td>3.383142e+07</td>\n",
       "    </tr>\n",
       "    <tr>\n",
       "      <th>min</th>\n",
       "      <td>2.200000</td>\n",
       "      <td>2.160000e+02</td>\n",
       "      <td>6.000000e+03</td>\n",
       "      <td>3.090000e+02</td>\n",
       "      <td>0.000000</td>\n",
       "      <td>1980-02-01 00:00:00</td>\n",
       "      <td>-9.830110e+07</td>\n",
       "    </tr>\n",
       "    <tr>\n",
       "      <th>25%</th>\n",
       "      <td>5.800000</td>\n",
       "      <td>8.700000e+03</td>\n",
       "      <td>8.000000e+06</td>\n",
       "      <td>6.330054e+06</td>\n",
       "      <td>95.000000</td>\n",
       "      <td>1987-12-25 00:00:00</td>\n",
       "      <td>-6.500898e+06</td>\n",
       "    </tr>\n",
       "    <tr>\n",
       "      <th>50%</th>\n",
       "      <td>6.400000</td>\n",
       "      <td>2.600000e+04</td>\n",
       "      <td>1.600000e+07</td>\n",
       "      <td>1.962340e+07</td>\n",
       "      <td>104.000000</td>\n",
       "      <td>1993-04-23 00:00:00</td>\n",
       "      <td>3.817291e+06</td>\n",
       "    </tr>\n",
       "    <tr>\n",
       "      <th>75%</th>\n",
       "      <td>7.000000</td>\n",
       "      <td>7.400000e+04</td>\n",
       "      <td>3.000000e+07</td>\n",
       "      <td>5.663157e+07</td>\n",
       "      <td>116.000000</td>\n",
       "      <td>1997-10-31 00:00:00</td>\n",
       "      <td>3.104708e+07</td>\n",
       "    </tr>\n",
       "    <tr>\n",
       "      <th>max</th>\n",
       "      <td>9.300000</td>\n",
       "      <td>2.400000e+06</td>\n",
       "      <td>2.000000e+08</td>\n",
       "      <td>2.201647e+09</td>\n",
       "      <td>271.000000</td>\n",
       "      <td>2001-12-25 00:00:00</td>\n",
       "      <td>2.001647e+09</td>\n",
       "    </tr>\n",
       "    <tr>\n",
       "      <th>std</th>\n",
       "      <td>0.970694</td>\n",
       "      <td>1.711206e+05</td>\n",
       "      <td>2.417813e+07</td>\n",
       "      <td>1.094625e+08</td>\n",
       "      <td>19.277782</td>\n",
       "      <td>NaN</td>\n",
       "      <td>9.832903e+07</td>\n",
       "    </tr>\n",
       "  </tbody>\n",
       "</table>\n",
       "</div>"
      ],
      "text/plain": [
       "             score         votes        budget         gross      runtime   \n",
       "count  2545.000000  2.545000e+03  2.545000e+03  2.545000e+03  2545.000000  \\\n",
       "mean      6.359018  7.794249e+04  2.412036e+07  5.795178e+07   107.263654   \n",
       "min       2.200000  2.160000e+02  6.000000e+03  3.090000e+02     0.000000   \n",
       "25%       5.800000  8.700000e+03  8.000000e+06  6.330054e+06    95.000000   \n",
       "50%       6.400000  2.600000e+04  1.600000e+07  1.962340e+07   104.000000   \n",
       "75%       7.000000  7.400000e+04  3.000000e+07  5.663157e+07   116.000000   \n",
       "max       9.300000  2.400000e+06  2.000000e+08  2.201647e+09   271.000000   \n",
       "std       0.970694  1.711206e+05  2.417813e+07  1.094625e+08    19.277782   \n",
       "\n",
       "                                date        liquid  \n",
       "count                           2545  2.545000e+03  \n",
       "mean   1992-09-05 08:40:33.005894016  3.383142e+07  \n",
       "min              1980-02-01 00:00:00 -9.830110e+07  \n",
       "25%              1987-12-25 00:00:00 -6.500898e+06  \n",
       "50%              1993-04-23 00:00:00  3.817291e+06  \n",
       "75%              1997-10-31 00:00:00  3.104708e+07  \n",
       "max              2001-12-25 00:00:00  2.001647e+09  \n",
       "std                              NaN  9.832903e+07  "
      ]
     },
     "execution_count": 5,
     "metadata": {},
     "output_type": "execute_result"
    }
   ],
   "source": [
    "df.describe()"
   ]
  },
  {
   "cell_type": "markdown",
   "id": "49a9bc5c",
   "metadata": {},
   "source": [
    "# Perguntas"
   ]
  },
  {
   "cell_type": "markdown",
   "id": "8ae44620",
   "metadata": {},
   "source": [
    "---"
   ]
  },
  {
   "cell_type": "markdown",
   "id": "10ce58a2",
   "metadata": {},
   "source": [
    "## Name (Nome)"
   ]
  },
  {
   "cell_type": "markdown",
   "id": "6fd9bb90",
   "metadata": {},
   "source": [
    "### Quais os 10 melhores e piores filmes, em relação a pontuação e votos?"
   ]
  },
  {
   "cell_type": "markdown",
   "id": "223dc887",
   "metadata": {},
   "source": [
    "### Quais os 10 melhores e piores filmes, em relação a relação custo e lucro?"
   ]
  },
  {
   "cell_type": "markdown",
   "id": "3af71c05",
   "metadata": {},
   "source": [
    "---"
   ]
  },
  {
   "cell_type": "markdown",
   "id": "9e1d6337",
   "metadata": {},
   "source": [
    "## Rating (Classificação)"
   ]
  },
  {
   "cell_type": "markdown",
   "id": "ff13c4a3",
   "metadata": {},
   "source": [
    "### Qual rating recebe mais orçamento?"
   ]
  },
  {
   "cell_type": "markdown",
   "id": "5178d1ff",
   "metadata": {},
   "source": [
    "### Qual rating recebe mais lucro?"
   ]
  },
  {
   "cell_type": "markdown",
   "id": "5e3e8cf8",
   "metadata": {},
   "source": [
    "---"
   ]
  },
  {
   "cell_type": "markdown",
   "id": "d16b1947",
   "metadata": {},
   "source": [
    "## Genre (Gênero)"
   ]
  },
  {
   "cell_type": "markdown",
   "id": "c46fa54f",
   "metadata": {},
   "source": [
    "### Quais os top 10 gêneros que deram mais lucro? E os que deram menos lucros?"
   ]
  },
  {
   "cell_type": "markdown",
   "id": "5a725b0b",
   "metadata": {},
   "source": [
    "### Quais gêneros custam mais para serem produzidos?"
   ]
  },
  {
   "cell_type": "markdown",
   "id": "da46bcfb",
   "metadata": {},
   "source": [
    "---"
   ]
  },
  {
   "cell_type": "markdown",
   "id": "bdeb1a0e",
   "metadata": {},
   "source": [
    "## Date (Data)"
   ]
  },
  {
   "cell_type": "markdown",
   "id": "12c554f8",
   "metadata": {},
   "source": [
    "### Em qual período, anual e mensal, que houveram mais filmes?"
   ]
  },
  {
   "cell_type": "markdown",
   "id": "73c59e1f",
   "metadata": {},
   "source": [
    "### Qual a tendência de gêneros de filmes ao longo de determinado período de tempo?"
   ]
  },
  {
   "cell_type": "markdown",
   "id": "1c1eb3a6",
   "metadata": {},
   "source": [
    "### Quais as top 10 companhias que tiveram mais lucro ao longo do tempo? E quais as que tiveram menos lucro?"
   ]
  },
  {
   "cell_type": "markdown",
   "id": "725b8d80",
   "metadata": {},
   "source": [
    "### Qual a projeção, em porcentagem do lucro de filmes ao longo do tempo? O lucro diminuiu ou aumentou, ao longo do tempo?"
   ]
  },
  {
   "cell_type": "markdown",
   "id": "b480868c",
   "metadata": {},
   "source": [
    "### Qual a projeção, ao longo do tempo, do custo dos filmes? Eles ficaram mais caros ou mais baratos?"
   ]
  },
  {
   "cell_type": "markdown",
   "id": "a4ef710e",
   "metadata": {},
   "source": [
    "### Em qual época houve um pico de lucro provinda de filmes? E em qual houve o menor pico?"
   ]
  },
  {
   "cell_type": "markdown",
   "id": "4b89111a",
   "metadata": {},
   "source": [
    "### Há relação entre os períodos onde houveram grandes picos de vendas com o custo dos filmes?"
   ]
  },
  {
   "cell_type": "markdown",
   "id": "f188d57d",
   "metadata": {},
   "source": [
    "### É possível visualizar, num determinado período de tempo, quais filmes foram lançados, o lucro e custo total daquele período, além de permitir uma visualização detalhada da razão de tais métricas, em porcentagem, junto com os nomes das companhias que estão presentes neste mesmo período? \n",
    "    * Exemplo:\n",
    "        - Num período x, houve um lucro total de y e custo z, com tais filmes \n",
    "        ocupando w% dos respectivos valores. Além disso, neste período, \n",
    "        a porcentagem de lucro e custo das companhias que mais lucraram foram ???."
   ]
  },
  {
   "cell_type": "markdown",
   "id": "65578af1",
   "metadata": {},
   "source": [
    "---"
   ]
  },
  {
   "cell_type": "code",
   "execution_count": null,
   "id": "b1ceaaf3",
   "metadata": {},
   "outputs": [],
   "source": []
  }
 ],
 "metadata": {
  "kernelspec": {
   "display_name": "Python 3 (ipykernel)",
   "language": "python",
   "name": "python3"
  },
  "language_info": {
   "codemirror_mode": {
    "name": "ipython",
    "version": 3
   },
   "file_extension": ".py",
   "mimetype": "text/x-python",
   "name": "python",
   "nbconvert_exporter": "python",
   "pygments_lexer": "ipython3",
   "version": "3.9.2"
  }
 },
 "nbformat": 4,
 "nbformat_minor": 5
}
