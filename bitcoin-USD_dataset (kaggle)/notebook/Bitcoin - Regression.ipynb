{
 "cells": [
  {
   "cell_type": "code",
   "execution_count": 1,
   "id": "31706138",
   "metadata": {},
   "outputs": [],
   "source": [
    "import os\n",
    "from pathlib import Path\n",
    "import pandas as pd\n",
    "\n",
    "%matplotlib inline"
   ]
  },
  {
   "cell_type": "code",
   "execution_count": 4,
   "id": "1de7e1d5",
   "metadata": {},
   "outputs": [
    {
     "name": "stdout",
     "output_type": "stream",
     "text": [
      "/sysroot/home/romanogameplay/PycharmProjects/Projetos/Projetos Data Science/bitcoin-USD_dataset (kaggle)\n"
     ]
    }
   ],
   "source": [
    "PROJECT_PATH = Path(os.path.dirname(os.path.dirname(os.path.abspath('movie-dataset (Gráficos)'))))\n",
    "\n",
    "print(PROJECT_PATH)\n",
    "# DADOS_PATH = PROJECT_PATH / 'dados' / 'saida' / 'BTC-USD.csv'"
   ]
  },
  {
   "cell_type": "code",
   "execution_count": null,
   "id": "f8dc4537",
   "metadata": {},
   "outputs": [],
   "source": [
    "df = pd.read_csv(DADOS_PATH, parse_dates=['date'])\n",
    "df"
   ]
  }
 ],
 "metadata": {
  "kernelspec": {
   "display_name": "Python 3 (ipykernel)",
   "language": "python",
   "name": "python3"
  },
  "language_info": {
   "codemirror_mode": {
    "name": "ipython",
    "version": 3
   },
   "file_extension": ".py",
   "mimetype": "text/x-python",
   "name": "python",
   "nbconvert_exporter": "python",
   "pygments_lexer": "ipython3",
   "version": "3.9.2"
  }
 },
 "nbformat": 4,
 "nbformat_minor": 5
}
