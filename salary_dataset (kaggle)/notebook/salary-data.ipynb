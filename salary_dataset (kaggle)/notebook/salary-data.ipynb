{
 "cells": [
  {
   "cell_type": "code",
   "execution_count": 1,
   "metadata": {
    "_cell_guid": "b1076dfc-b9ad-4769-8c92-a6c4dae69d19",
    "_uuid": "8f2839f25d086af736a60e9eeb907d3b93b6e0e5",
    "execution": {
     "iopub.execute_input": "2023-07-11T22:25:49.150407Z",
     "iopub.status.busy": "2023-07-11T22:25:49.148825Z",
     "iopub.status.idle": "2023-07-11T22:25:49.261187Z",
     "shell.execute_reply": "2023-07-11T22:25:49.260521Z",
     "shell.execute_reply.started": "2023-07-11T22:25:49.150363Z"
    }
   },
   "outputs": [],
   "source": [
    "# This Python 3 environment comes with many helpful analytics libraries installed\n",
    "# It is defined by the kaggle/python Docker image: https://github.com/kaggle/docker-python\n",
    "# For example, here's several helpful packages to load\n",
    "\n",
    "import numpy as np # linear algebra\n",
    "import pandas as pd # data processing, CSV file I/O (e.g. pd.read_csv)\n",
    "\n",
    "# Input data files are available in the read-only \"../input/\" directory\n",
    "# For example, running this (by clicking run or pressing Shift+Enter) will list all files under the input directory\n",
    "\n",
    "import os\n",
    "\n",
    "df = pd.DataFrame()\n",
    "for dirname, _, filenames in os.walk('/kaggle/input'):\n",
    "    for filename in filenames:\n",
    "        df_path = os.path.join(dirname, filename)\n",
    "        print(df_path)\n",
    "        df = pd.read_csv(df_path, encoding='latin-1')\n",
    "\n",
    "# You can write up to 20GB to the current directory (/kaggle/working/) that gets preserved as output when you create a version using \"Save & Run All\" \n",
    "# You can also write temporary files to /kaggle/temp/, but they won't be saved outside of the current session"
   ]
  },
  {
   "cell_type": "code",
   "execution_count": 2,
   "metadata": {},
   "outputs": [
    {
     "name": "stdout",
     "output_type": "stream",
     "text": [
      "/sysroot/home/romanogameplay/PycharmProjects/Projetos/Projetos Data Science/salary_dataset (kaggle)/dados/saida/Salary_Data.csv\n",
      "/sysroot/home/romanogameplay/PycharmProjects/Projetos/Projetos Data Science/salary_dataset (kaggle)/dados/entrada/Salary_Data.csv\n"
     ]
    }
   ],
   "source": [
    "import numpy as np # linear algebra\n",
    "import pandas as pd # data processing, CSV file I/O (e.g. pd.read_csv)\n",
    "\n",
    "# Input data files are available in the read-only \"../input/\" directory\n",
    "# For example, running this (by clicking run or pressing Shift+Enter) will list all files under the input directory\n",
    "\n",
    "import os\n",
    "\n",
    "df = pd.DataFrame()\n",
    "for dirname, _, filenames in os.walk('/sysroot/home/romanogameplay/PycharmProjects/Projetos/Projetos Data Science/salary_dataset (kaggle)/dados/'):\n",
    "    for filename in filenames:\n",
    "        df_path = os.path.join(dirname, filename)\n",
    "        print(df_path)\n",
    "        df = pd.read_csv(df_path, encoding='latin-1')\n"
   ]
  },
  {
   "cell_type": "code",
   "execution_count": 3,
   "metadata": {
    "execution": {
     "iopub.execute_input": "2023-07-11T22:25:49.263051Z",
     "iopub.status.busy": "2023-07-11T22:25:49.262617Z",
     "iopub.status.idle": "2023-07-11T22:25:49.298061Z",
     "shell.execute_reply": "2023-07-11T22:25:49.297097Z",
     "shell.execute_reply.started": "2023-07-11T22:25:49.263027Z"
    }
   },
   "outputs": [
    {
     "data": {
      "text/html": [
       "<div>\n",
       "<style scoped>\n",
       "    .dataframe tbody tr th:only-of-type {\n",
       "        vertical-align: middle;\n",
       "    }\n",
       "\n",
       "    .dataframe tbody tr th {\n",
       "        vertical-align: top;\n",
       "    }\n",
       "\n",
       "    .dataframe thead th {\n",
       "        text-align: right;\n",
       "    }\n",
       "</style>\n",
       "<table border=\"1\" class=\"dataframe\">\n",
       "  <thead>\n",
       "    <tr style=\"text-align: right;\">\n",
       "      <th></th>\n",
       "      <th>ï»¿Age</th>\n",
       "      <th>Gender</th>\n",
       "      <th>Education Level</th>\n",
       "      <th>Job Title</th>\n",
       "      <th>Years of Experience</th>\n",
       "      <th>Salary</th>\n",
       "    </tr>\n",
       "  </thead>\n",
       "  <tbody>\n",
       "    <tr>\n",
       "      <th>0</th>\n",
       "      <td>32.0</td>\n",
       "      <td>Male</td>\n",
       "      <td>Bachelor's</td>\n",
       "      <td>Software Engineer</td>\n",
       "      <td>5.0</td>\n",
       "      <td>90000.0</td>\n",
       "    </tr>\n",
       "    <tr>\n",
       "      <th>1</th>\n",
       "      <td>28.0</td>\n",
       "      <td>Female</td>\n",
       "      <td>Master's</td>\n",
       "      <td>Data Analyst</td>\n",
       "      <td>3.0</td>\n",
       "      <td>65000.0</td>\n",
       "    </tr>\n",
       "    <tr>\n",
       "      <th>2</th>\n",
       "      <td>45.0</td>\n",
       "      <td>Male</td>\n",
       "      <td>PhD</td>\n",
       "      <td>Senior Manager</td>\n",
       "      <td>15.0</td>\n",
       "      <td>150000.0</td>\n",
       "    </tr>\n",
       "    <tr>\n",
       "      <th>3</th>\n",
       "      <td>36.0</td>\n",
       "      <td>Female</td>\n",
       "      <td>Bachelor's</td>\n",
       "      <td>Sales Associate</td>\n",
       "      <td>7.0</td>\n",
       "      <td>60000.0</td>\n",
       "    </tr>\n",
       "    <tr>\n",
       "      <th>4</th>\n",
       "      <td>52.0</td>\n",
       "      <td>Male</td>\n",
       "      <td>Master's</td>\n",
       "      <td>Director</td>\n",
       "      <td>20.0</td>\n",
       "      <td>200000.0</td>\n",
       "    </tr>\n",
       "    <tr>\n",
       "      <th>...</th>\n",
       "      <td>...</td>\n",
       "      <td>...</td>\n",
       "      <td>...</td>\n",
       "      <td>...</td>\n",
       "      <td>...</td>\n",
       "      <td>...</td>\n",
       "    </tr>\n",
       "    <tr>\n",
       "      <th>6699</th>\n",
       "      <td>49.0</td>\n",
       "      <td>Female</td>\n",
       "      <td>PhD</td>\n",
       "      <td>Director of Marketing</td>\n",
       "      <td>20.0</td>\n",
       "      <td>200000.0</td>\n",
       "    </tr>\n",
       "    <tr>\n",
       "      <th>6700</th>\n",
       "      <td>32.0</td>\n",
       "      <td>Male</td>\n",
       "      <td>High School</td>\n",
       "      <td>Sales Associate</td>\n",
       "      <td>3.0</td>\n",
       "      <td>50000.0</td>\n",
       "    </tr>\n",
       "    <tr>\n",
       "      <th>6701</th>\n",
       "      <td>30.0</td>\n",
       "      <td>Female</td>\n",
       "      <td>Bachelor's Degree</td>\n",
       "      <td>Financial Manager</td>\n",
       "      <td>4.0</td>\n",
       "      <td>55000.0</td>\n",
       "    </tr>\n",
       "    <tr>\n",
       "      <th>6702</th>\n",
       "      <td>46.0</td>\n",
       "      <td>Male</td>\n",
       "      <td>Master's Degree</td>\n",
       "      <td>Marketing Manager</td>\n",
       "      <td>14.0</td>\n",
       "      <td>140000.0</td>\n",
       "    </tr>\n",
       "    <tr>\n",
       "      <th>6703</th>\n",
       "      <td>26.0</td>\n",
       "      <td>Female</td>\n",
       "      <td>High School</td>\n",
       "      <td>Sales Executive</td>\n",
       "      <td>1.0</td>\n",
       "      <td>35000.0</td>\n",
       "    </tr>\n",
       "  </tbody>\n",
       "</table>\n",
       "<p>6704 rows × 6 columns</p>\n",
       "</div>"
      ],
      "text/plain": [
       "      ï»¿Age  Gender    Education Level              Job Title   \n",
       "0       32.0    Male         Bachelor's      Software Engineer  \\\n",
       "1       28.0  Female           Master's           Data Analyst   \n",
       "2       45.0    Male                PhD         Senior Manager   \n",
       "3       36.0  Female         Bachelor's        Sales Associate   \n",
       "4       52.0    Male           Master's               Director   \n",
       "...      ...     ...                ...                    ...   \n",
       "6699    49.0  Female                PhD  Director of Marketing   \n",
       "6700    32.0    Male        High School        Sales Associate   \n",
       "6701    30.0  Female  Bachelor's Degree      Financial Manager   \n",
       "6702    46.0    Male    Master's Degree      Marketing Manager   \n",
       "6703    26.0  Female        High School        Sales Executive   \n",
       "\n",
       "      Years of Experience    Salary  \n",
       "0                     5.0   90000.0  \n",
       "1                     3.0   65000.0  \n",
       "2                    15.0  150000.0  \n",
       "3                     7.0   60000.0  \n",
       "4                    20.0  200000.0  \n",
       "...                   ...       ...  \n",
       "6699                 20.0  200000.0  \n",
       "6700                  3.0   50000.0  \n",
       "6701                  4.0   55000.0  \n",
       "6702                 14.0  140000.0  \n",
       "6703                  1.0   35000.0  \n",
       "\n",
       "[6704 rows x 6 columns]"
      ]
     },
     "execution_count": 3,
     "metadata": {},
     "output_type": "execute_result"
    }
   ],
   "source": [
    "# Visualização dos dados brutos\n",
    "df"
   ]
  },
  {
   "cell_type": "code",
   "execution_count": 4,
   "metadata": {
    "execution": {
     "iopub.execute_input": "2023-07-11T22:25:49.299632Z",
     "iopub.status.busy": "2023-07-11T22:25:49.299324Z",
     "iopub.status.idle": "2023-07-11T22:25:49.322678Z",
     "shell.execute_reply": "2023-07-11T22:25:49.321478Z",
     "shell.execute_reply.started": "2023-07-11T22:25:49.299606Z"
    }
   },
   "outputs": [
    {
     "name": "stdout",
     "output_type": "stream",
     "text": [
      "<class 'pandas.core.frame.DataFrame'>\n",
      "RangeIndex: 6704 entries, 0 to 6703\n",
      "Data columns (total 6 columns):\n",
      " #   Column               Non-Null Count  Dtype  \n",
      "---  ------               --------------  -----  \n",
      " 0   ï»¿Age               6702 non-null   float64\n",
      " 1   Gender               6702 non-null   object \n",
      " 2   Education Level      6701 non-null   object \n",
      " 3   Job Title            6702 non-null   object \n",
      " 4   Years of Experience  6701 non-null   float64\n",
      " 5   Salary               6699 non-null   float64\n",
      "dtypes: float64(3), object(3)\n",
      "memory usage: 314.4+ KB\n"
     ]
    }
   ],
   "source": [
    "# Vizualização dos tipos de dados presentes no dataframe\n",
    "df.info()"
   ]
  },
  {
   "cell_type": "code",
   "execution_count": 5,
   "metadata": {
    "execution": {
     "iopub.execute_input": "2023-07-11T22:25:49.324945Z",
     "iopub.status.busy": "2023-07-11T22:25:49.324617Z",
     "iopub.status.idle": "2023-07-11T22:25:49.333937Z",
     "shell.execute_reply": "2023-07-11T22:25:49.332983Z",
     "shell.execute_reply.started": "2023-07-11T22:25:49.324922Z"
    }
   },
   "outputs": [],
   "source": [
    "# Renomeia a coluna com nome estranho\n",
    "df.rename(columns={df.columns.values[0]: 'Age'}, inplace=True)"
   ]
  },
  {
   "cell_type": "code",
   "execution_count": 6,
   "metadata": {
    "execution": {
     "iopub.execute_input": "2023-07-11T22:25:49.335914Z",
     "iopub.status.busy": "2023-07-11T22:25:49.335376Z",
     "iopub.status.idle": "2023-07-11T22:25:49.351205Z",
     "shell.execute_reply": "2023-07-11T22:25:49.350381Z",
     "shell.execute_reply.started": "2023-07-11T22:25:49.335883Z"
    }
   },
   "outputs": [
    {
     "data": {
      "text/plain": [
       "17"
      ]
     },
     "execution_count": 6,
     "metadata": {},
     "output_type": "execute_result"
    }
   ],
   "source": [
    "# Visualização dos dados nulos em cada coluna do dataframe\n",
    "df.isnull().sum().sum()"
   ]
  },
  {
   "cell_type": "code",
   "execution_count": 7,
   "metadata": {},
   "outputs": [
    {
     "name": "stdout",
     "output_type": "stream",
     "text": [
      "     Age Gender Education Level Job Title  Years of Experience  Salary\n",
      "172  NaN    NaN             NaN       NaN                  NaN     NaN\n",
      "260  NaN    NaN             NaN       NaN                  NaN     NaN\n"
     ]
    }
   ],
   "source": [
    "linhas_com_nulos = df[df.isnull().all(axis=1)]\n",
    "\n",
    "print(linhas_com_nulos)"
   ]
  },
  {
   "cell_type": "code",
   "execution_count": 8,
   "metadata": {
    "execution": {
     "iopub.execute_input": "2023-07-11T22:48:02.545817Z",
     "iopub.status.busy": "2023-07-11T22:48:02.545471Z",
     "iopub.status.idle": "2023-07-11T22:48:02.553948Z",
     "shell.execute_reply": "2023-07-11T22:48:02.553231Z",
     "shell.execute_reply.started": "2023-07-11T22:48:02.545794Z"
    }
   },
   "outputs": [],
   "source": [
    "# Remove as linhas que contém,em todas as colunas, dados nulos\n",
    "df.dropna(how='all', inplace=True)"
   ]
  },
  {
   "cell_type": "code",
   "execution_count": 9,
   "metadata": {
    "execution": {
     "iopub.execute_input": "2023-07-11T22:48:02.971746Z",
     "iopub.status.busy": "2023-07-11T22:48:02.971179Z",
     "iopub.status.idle": "2023-07-11T22:48:02.983286Z",
     "shell.execute_reply": "2023-07-11T22:48:02.982288Z",
     "shell.execute_reply.started": "2023-07-11T22:48:02.971714Z"
    }
   },
   "outputs": [
    {
     "data": {
      "text/plain": [
       "Age                    0\n",
       "Gender                 0\n",
       "Education Level        1\n",
       "Job Title              0\n",
       "Years of Experience    1\n",
       "Salary                 3\n",
       "dtype: int64"
      ]
     },
     "execution_count": 9,
     "metadata": {},
     "output_type": "execute_result"
    }
   ],
   "source": [
    "# Visualiza os dados faltantes após a remoção das linhas\n",
    "df.isnull().sum()"
   ]
  },
  {
   "cell_type": "code",
   "execution_count": 10,
   "metadata": {
    "execution": {
     "iopub.execute_input": "2023-07-11T23:09:17.834180Z",
     "iopub.status.busy": "2023-07-11T23:09:17.833110Z",
     "iopub.status.idle": "2023-07-11T23:09:17.863883Z",
     "shell.execute_reply": "2023-07-11T23:09:17.862800Z",
     "shell.execute_reply.started": "2023-07-11T23:09:17.834149Z"
    }
   },
   "outputs": [
    {
     "name": "stdout",
     "output_type": "stream",
     "text": [
      "Coluna Education Level\n"
     ]
    },
    {
     "data": {
      "text/html": [
       "<div>\n",
       "<style scoped>\n",
       "    .dataframe tbody tr th:only-of-type {\n",
       "        vertical-align: middle;\n",
       "    }\n",
       "\n",
       "    .dataframe tbody tr th {\n",
       "        vertical-align: top;\n",
       "    }\n",
       "\n",
       "    .dataframe thead th {\n",
       "        text-align: right;\n",
       "    }\n",
       "</style>\n",
       "<table border=\"1\" class=\"dataframe\">\n",
       "  <thead>\n",
       "    <tr style=\"text-align: right;\">\n",
       "      <th></th>\n",
       "      <th>Age</th>\n",
       "      <th>Gender</th>\n",
       "      <th>Education Level</th>\n",
       "      <th>Job Title</th>\n",
       "      <th>Years of Experience</th>\n",
       "      <th>Salary</th>\n",
       "    </tr>\n",
       "  </thead>\n",
       "  <tbody>\n",
       "    <tr>\n",
       "      <th>2011</th>\n",
       "      <td>27.0</td>\n",
       "      <td>Male</td>\n",
       "      <td>NaN</td>\n",
       "      <td>Developer</td>\n",
       "      <td>7.0</td>\n",
       "      <td>100000.0</td>\n",
       "    </tr>\n",
       "  </tbody>\n",
       "</table>\n",
       "</div>"
      ],
      "text/plain": [
       "       Age Gender Education Level  Job Title  Years of Experience    Salary\n",
       "2011  27.0   Male             NaN  Developer                  7.0  100000.0"
      ]
     },
     "metadata": {},
     "output_type": "display_data"
    },
    {
     "name": "stdout",
     "output_type": "stream",
     "text": [
      "Coluna Years of Experience\n"
     ]
    },
    {
     "data": {
      "text/html": [
       "<div>\n",
       "<style scoped>\n",
       "    .dataframe tbody tr th:only-of-type {\n",
       "        vertical-align: middle;\n",
       "    }\n",
       "\n",
       "    .dataframe tbody tr th {\n",
       "        vertical-align: top;\n",
       "    }\n",
       "\n",
       "    .dataframe thead th {\n",
       "        text-align: right;\n",
       "    }\n",
       "</style>\n",
       "<table border=\"1\" class=\"dataframe\">\n",
       "  <thead>\n",
       "    <tr style=\"text-align: right;\">\n",
       "      <th></th>\n",
       "      <th>Age</th>\n",
       "      <th>Gender</th>\n",
       "      <th>Education Level</th>\n",
       "      <th>Job Title</th>\n",
       "      <th>Years of Experience</th>\n",
       "      <th>Salary</th>\n",
       "    </tr>\n",
       "  </thead>\n",
       "  <tbody>\n",
       "    <tr>\n",
       "      <th>5247</th>\n",
       "      <td>26.0</td>\n",
       "      <td>Female</td>\n",
       "      <td>Bachelor's Degree</td>\n",
       "      <td>Social M</td>\n",
       "      <td>NaN</td>\n",
       "      <td>NaN</td>\n",
       "    </tr>\n",
       "  </tbody>\n",
       "</table>\n",
       "</div>"
      ],
      "text/plain": [
       "       Age  Gender    Education Level Job Title  Years of Experience  Salary\n",
       "5247  26.0  Female  Bachelor's Degree  Social M                  NaN     NaN"
      ]
     },
     "metadata": {},
     "output_type": "display_data"
    },
    {
     "name": "stdout",
     "output_type": "stream",
     "text": [
      "Coluna Salary\n"
     ]
    },
    {
     "data": {
      "text/html": [
       "<div>\n",
       "<style scoped>\n",
       "    .dataframe tbody tr th:only-of-type {\n",
       "        vertical-align: middle;\n",
       "    }\n",
       "\n",
       "    .dataframe tbody tr th {\n",
       "        vertical-align: top;\n",
       "    }\n",
       "\n",
       "    .dataframe thead th {\n",
       "        text-align: right;\n",
       "    }\n",
       "</style>\n",
       "<table border=\"1\" class=\"dataframe\">\n",
       "  <thead>\n",
       "    <tr style=\"text-align: right;\">\n",
       "      <th></th>\n",
       "      <th>Age</th>\n",
       "      <th>Gender</th>\n",
       "      <th>Education Level</th>\n",
       "      <th>Job Title</th>\n",
       "      <th>Years of Experience</th>\n",
       "      <th>Salary</th>\n",
       "    </tr>\n",
       "  </thead>\n",
       "  <tbody>\n",
       "    <tr>\n",
       "      <th>3136</th>\n",
       "      <td>31.0</td>\n",
       "      <td>Male</td>\n",
       "      <td>Master's Degree</td>\n",
       "      <td>Full Stack Engineer</td>\n",
       "      <td>8.0</td>\n",
       "      <td>NaN</td>\n",
       "    </tr>\n",
       "    <tr>\n",
       "      <th>5247</th>\n",
       "      <td>26.0</td>\n",
       "      <td>Female</td>\n",
       "      <td>Bachelor's Degree</td>\n",
       "      <td>Social M</td>\n",
       "      <td>NaN</td>\n",
       "      <td>NaN</td>\n",
       "    </tr>\n",
       "    <tr>\n",
       "      <th>6455</th>\n",
       "      <td>36.0</td>\n",
       "      <td>Male</td>\n",
       "      <td>Bachelor's Degree</td>\n",
       "      <td>Sales Director</td>\n",
       "      <td>6.0</td>\n",
       "      <td>NaN</td>\n",
       "    </tr>\n",
       "  </tbody>\n",
       "</table>\n",
       "</div>"
      ],
      "text/plain": [
       "       Age  Gender    Education Level            Job Title   \n",
       "3136  31.0    Male    Master's Degree  Full Stack Engineer  \\\n",
       "5247  26.0  Female  Bachelor's Degree             Social M   \n",
       "6455  36.0    Male  Bachelor's Degree       Sales Director   \n",
       "\n",
       "      Years of Experience  Salary  \n",
       "3136                  8.0     NaN  \n",
       "5247                  NaN     NaN  \n",
       "6455                  6.0     NaN  "
      ]
     },
     "metadata": {},
     "output_type": "display_data"
    }
   ],
   "source": [
    "# Uma visualização mais detalhada das colunas e linhas que ainda possuem dados nulos\n",
    "for c in ['Education Level', 'Years of Experience', 'Salary']:\n",
    "    print(f'Coluna {c}')\n",
    "    display(df[df[c].isnull() == True])"
   ]
  },
  {
   "cell_type": "code",
   "execution_count": 11,
   "metadata": {
    "execution": {
     "iopub.execute_input": "2023-07-11T23:09:18.986203Z",
     "iopub.status.busy": "2023-07-11T23:09:18.985869Z",
     "iopub.status.idle": "2023-07-11T23:09:19.001737Z",
     "shell.execute_reply": "2023-07-11T23:09:19.000644Z",
     "shell.execute_reply.started": "2023-07-11T23:09:18.986176Z"
    }
   },
   "outputs": [
    {
     "data": {
      "text/html": [
       "<div>\n",
       "<style scoped>\n",
       "    .dataframe tbody tr th:only-of-type {\n",
       "        vertical-align: middle;\n",
       "    }\n",
       "\n",
       "    .dataframe tbody tr th {\n",
       "        vertical-align: top;\n",
       "    }\n",
       "\n",
       "    .dataframe thead th {\n",
       "        text-align: right;\n",
       "    }\n",
       "</style>\n",
       "<table border=\"1\" class=\"dataframe\">\n",
       "  <thead>\n",
       "    <tr style=\"text-align: right;\">\n",
       "      <th></th>\n",
       "      <th>Age</th>\n",
       "      <th>Gender</th>\n",
       "      <th>Education Level</th>\n",
       "      <th>Job Title</th>\n",
       "      <th>Years of Experience</th>\n",
       "      <th>Salary</th>\n",
       "    </tr>\n",
       "  </thead>\n",
       "  <tbody>\n",
       "    <tr>\n",
       "      <th>6306</th>\n",
       "      <td>29.0</td>\n",
       "      <td>Male</td>\n",
       "      <td>Bachelor's Degree</td>\n",
       "      <td>Sales Director</td>\n",
       "      <td>6.0</td>\n",
       "      <td>75000.0</td>\n",
       "    </tr>\n",
       "    <tr>\n",
       "      <th>6360</th>\n",
       "      <td>29.0</td>\n",
       "      <td>Female</td>\n",
       "      <td>Bachelor's Degree</td>\n",
       "      <td>Sales Director</td>\n",
       "      <td>6.0</td>\n",
       "      <td>75000.0</td>\n",
       "    </tr>\n",
       "    <tr>\n",
       "      <th>6385</th>\n",
       "      <td>36.0</td>\n",
       "      <td>Male</td>\n",
       "      <td>Bachelor's Degree</td>\n",
       "      <td>Sales Director</td>\n",
       "      <td>6.0</td>\n",
       "      <td>75000.0</td>\n",
       "    </tr>\n",
       "    <tr>\n",
       "      <th>6399</th>\n",
       "      <td>36.0</td>\n",
       "      <td>Male</td>\n",
       "      <td>Bachelor's Degree</td>\n",
       "      <td>Sales Director</td>\n",
       "      <td>6.0</td>\n",
       "      <td>75000.0</td>\n",
       "    </tr>\n",
       "    <tr>\n",
       "      <th>6413</th>\n",
       "      <td>36.0</td>\n",
       "      <td>Male</td>\n",
       "      <td>Bachelor's Degree</td>\n",
       "      <td>Sales Director</td>\n",
       "      <td>6.0</td>\n",
       "      <td>75000.0</td>\n",
       "    </tr>\n",
       "    <tr>\n",
       "      <th>6427</th>\n",
       "      <td>36.0</td>\n",
       "      <td>Male</td>\n",
       "      <td>Bachelor's Degree</td>\n",
       "      <td>Sales Director</td>\n",
       "      <td>6.0</td>\n",
       "      <td>75000.0</td>\n",
       "    </tr>\n",
       "    <tr>\n",
       "      <th>6441</th>\n",
       "      <td>36.0</td>\n",
       "      <td>Male</td>\n",
       "      <td>Bachelor's Degree</td>\n",
       "      <td>Sales Director</td>\n",
       "      <td>6.0</td>\n",
       "      <td>75000.0</td>\n",
       "    </tr>\n",
       "    <tr>\n",
       "      <th>6455</th>\n",
       "      <td>36.0</td>\n",
       "      <td>Male</td>\n",
       "      <td>Bachelor's Degree</td>\n",
       "      <td>Sales Director</td>\n",
       "      <td>6.0</td>\n",
       "      <td>NaN</td>\n",
       "    </tr>\n",
       "    <tr>\n",
       "      <th>6504</th>\n",
       "      <td>36.0</td>\n",
       "      <td>Male</td>\n",
       "      <td>Bachelor's Degree</td>\n",
       "      <td>Sales Director</td>\n",
       "      <td>6.0</td>\n",
       "      <td>75000.0</td>\n",
       "    </tr>\n",
       "    <tr>\n",
       "      <th>6518</th>\n",
       "      <td>36.0</td>\n",
       "      <td>Male</td>\n",
       "      <td>Bachelor's Degree</td>\n",
       "      <td>Sales Director</td>\n",
       "      <td>6.0</td>\n",
       "      <td>75000.0</td>\n",
       "    </tr>\n",
       "    <tr>\n",
       "      <th>6532</th>\n",
       "      <td>36.0</td>\n",
       "      <td>Male</td>\n",
       "      <td>Bachelor's Degree</td>\n",
       "      <td>Sales Director</td>\n",
       "      <td>6.0</td>\n",
       "      <td>75000.0</td>\n",
       "    </tr>\n",
       "    <tr>\n",
       "      <th>6546</th>\n",
       "      <td>36.0</td>\n",
       "      <td>Male</td>\n",
       "      <td>Bachelor's Degree</td>\n",
       "      <td>Sales Director</td>\n",
       "      <td>6.0</td>\n",
       "      <td>75000.0</td>\n",
       "    </tr>\n",
       "    <tr>\n",
       "      <th>6560</th>\n",
       "      <td>36.0</td>\n",
       "      <td>Male</td>\n",
       "      <td>Bachelor's Degree</td>\n",
       "      <td>Sales Director</td>\n",
       "      <td>6.0</td>\n",
       "      <td>75000.0</td>\n",
       "    </tr>\n",
       "    <tr>\n",
       "      <th>6574</th>\n",
       "      <td>36.0</td>\n",
       "      <td>Male</td>\n",
       "      <td>Bachelor's Degree</td>\n",
       "      <td>Sales Director</td>\n",
       "      <td>6.0</td>\n",
       "      <td>75000.0</td>\n",
       "    </tr>\n",
       "  </tbody>\n",
       "</table>\n",
       "</div>"
      ],
      "text/plain": [
       "       Age  Gender    Education Level       Job Title  Years of Experience   \n",
       "6306  29.0    Male  Bachelor's Degree  Sales Director                  6.0  \\\n",
       "6360  29.0  Female  Bachelor's Degree  Sales Director                  6.0   \n",
       "6385  36.0    Male  Bachelor's Degree  Sales Director                  6.0   \n",
       "6399  36.0    Male  Bachelor's Degree  Sales Director                  6.0   \n",
       "6413  36.0    Male  Bachelor's Degree  Sales Director                  6.0   \n",
       "6427  36.0    Male  Bachelor's Degree  Sales Director                  6.0   \n",
       "6441  36.0    Male  Bachelor's Degree  Sales Director                  6.0   \n",
       "6455  36.0    Male  Bachelor's Degree  Sales Director                  6.0   \n",
       "6504  36.0    Male  Bachelor's Degree  Sales Director                  6.0   \n",
       "6518  36.0    Male  Bachelor's Degree  Sales Director                  6.0   \n",
       "6532  36.0    Male  Bachelor's Degree  Sales Director                  6.0   \n",
       "6546  36.0    Male  Bachelor's Degree  Sales Director                  6.0   \n",
       "6560  36.0    Male  Bachelor's Degree  Sales Director                  6.0   \n",
       "6574  36.0    Male  Bachelor's Degree  Sales Director                  6.0   \n",
       "\n",
       "       Salary  \n",
       "6306  75000.0  \n",
       "6360  75000.0  \n",
       "6385  75000.0  \n",
       "6399  75000.0  \n",
       "6413  75000.0  \n",
       "6427  75000.0  \n",
       "6441  75000.0  \n",
       "6455      NaN  \n",
       "6504  75000.0  \n",
       "6518  75000.0  \n",
       "6532  75000.0  \n",
       "6546  75000.0  \n",
       "6560  75000.0  \n",
       "6574  75000.0  "
      ]
     },
     "execution_count": 11,
     "metadata": {},
     "output_type": "execute_result"
    }
   ],
   "source": [
    "# Análise dos dados da coluna \"Job Title\"\n",
    "df.loc[lambda f: (f['Job Title'] == 'Sales Director') & (f['Years of Experience'] == 6.0)]"
   ]
  },
  {
   "cell_type": "code",
   "execution_count": 12,
   "metadata": {
    "execution": {
     "iopub.execute_input": "2023-07-11T23:09:19.673600Z",
     "iopub.status.busy": "2023-07-11T23:09:19.673251Z",
     "iopub.status.idle": "2023-07-11T23:09:19.692093Z",
     "shell.execute_reply": "2023-07-11T23:09:19.691096Z",
     "shell.execute_reply.started": "2023-07-11T23:09:19.673573Z"
    }
   },
   "outputs": [
    {
     "data": {
      "text/html": [
       "<div>\n",
       "<style scoped>\n",
       "    .dataframe tbody tr th:only-of-type {\n",
       "        vertical-align: middle;\n",
       "    }\n",
       "\n",
       "    .dataframe tbody tr th {\n",
       "        vertical-align: top;\n",
       "    }\n",
       "\n",
       "    .dataframe thead th {\n",
       "        text-align: right;\n",
       "    }\n",
       "</style>\n",
       "<table border=\"1\" class=\"dataframe\">\n",
       "  <thead>\n",
       "    <tr style=\"text-align: right;\">\n",
       "      <th></th>\n",
       "      <th>Age</th>\n",
       "      <th>Gender</th>\n",
       "      <th>Education Level</th>\n",
       "      <th>Job Title</th>\n",
       "      <th>Years of Experience</th>\n",
       "      <th>Salary</th>\n",
       "    </tr>\n",
       "  </thead>\n",
       "  <tbody>\n",
       "    <tr>\n",
       "      <th>1229</th>\n",
       "      <td>36.0</td>\n",
       "      <td>Female</td>\n",
       "      <td>Master's Degree</td>\n",
       "      <td>Full Stack Engineer</td>\n",
       "      <td>8.0</td>\n",
       "      <td>140000.0</td>\n",
       "    </tr>\n",
       "    <tr>\n",
       "      <th>1326</th>\n",
       "      <td>36.0</td>\n",
       "      <td>Female</td>\n",
       "      <td>Master's Degree</td>\n",
       "      <td>Full Stack Engineer</td>\n",
       "      <td>8.0</td>\n",
       "      <td>140000.0</td>\n",
       "    </tr>\n",
       "    <tr>\n",
       "      <th>1409</th>\n",
       "      <td>36.0</td>\n",
       "      <td>Male</td>\n",
       "      <td>Master's Degree</td>\n",
       "      <td>Full Stack Engineer</td>\n",
       "      <td>8.0</td>\n",
       "      <td>140000.0</td>\n",
       "    </tr>\n",
       "    <tr>\n",
       "      <th>1670</th>\n",
       "      <td>35.0</td>\n",
       "      <td>Male</td>\n",
       "      <td>Bachelor's Degree</td>\n",
       "      <td>Full Stack Engineer</td>\n",
       "      <td>8.0</td>\n",
       "      <td>145000.0</td>\n",
       "    </tr>\n",
       "    <tr>\n",
       "      <th>1689</th>\n",
       "      <td>35.0</td>\n",
       "      <td>Male</td>\n",
       "      <td>Bachelor's Degree</td>\n",
       "      <td>Full Stack Engineer</td>\n",
       "      <td>8.0</td>\n",
       "      <td>145000.0</td>\n",
       "    </tr>\n",
       "    <tr>\n",
       "      <th>1708</th>\n",
       "      <td>35.0</td>\n",
       "      <td>Male</td>\n",
       "      <td>Bachelor's Degree</td>\n",
       "      <td>Full Stack Engineer</td>\n",
       "      <td>8.0</td>\n",
       "      <td>145000.0</td>\n",
       "    </tr>\n",
       "    <tr>\n",
       "      <th>1727</th>\n",
       "      <td>35.0</td>\n",
       "      <td>Male</td>\n",
       "      <td>Bachelor's Degree</td>\n",
       "      <td>Full Stack Engineer</td>\n",
       "      <td>8.0</td>\n",
       "      <td>145000.0</td>\n",
       "    </tr>\n",
       "    <tr>\n",
       "      <th>1746</th>\n",
       "      <td>35.0</td>\n",
       "      <td>Male</td>\n",
       "      <td>Bachelor's Degree</td>\n",
       "      <td>Full Stack Engineer</td>\n",
       "      <td>8.0</td>\n",
       "      <td>145000.0</td>\n",
       "    </tr>\n",
       "    <tr>\n",
       "      <th>1765</th>\n",
       "      <td>35.0</td>\n",
       "      <td>Male</td>\n",
       "      <td>Bachelor's Degree</td>\n",
       "      <td>Full Stack Engineer</td>\n",
       "      <td>8.0</td>\n",
       "      <td>145000.0</td>\n",
       "    </tr>\n",
       "    <tr>\n",
       "      <th>1780</th>\n",
       "      <td>35.0</td>\n",
       "      <td>Female</td>\n",
       "      <td>Bachelor's Degree</td>\n",
       "      <td>Full Stack Engineer</td>\n",
       "      <td>8.0</td>\n",
       "      <td>145000.0</td>\n",
       "    </tr>\n",
       "    <tr>\n",
       "      <th>2135</th>\n",
       "      <td>35.0</td>\n",
       "      <td>Female</td>\n",
       "      <td>Master's Degree</td>\n",
       "      <td>Full Stack Engineer</td>\n",
       "      <td>8.0</td>\n",
       "      <td>140000.0</td>\n",
       "    </tr>\n",
       "    <tr>\n",
       "      <th>2375</th>\n",
       "      <td>34.0</td>\n",
       "      <td>Female</td>\n",
       "      <td>Bachelor's Degree</td>\n",
       "      <td>Full Stack Engineer</td>\n",
       "      <td>8.0</td>\n",
       "      <td>122485.0</td>\n",
       "    </tr>\n",
       "    <tr>\n",
       "      <th>2455</th>\n",
       "      <td>34.0</td>\n",
       "      <td>Female</td>\n",
       "      <td>Bachelor's Degree</td>\n",
       "      <td>Full Stack Engineer</td>\n",
       "      <td>8.0</td>\n",
       "      <td>122485.0</td>\n",
       "    </tr>\n",
       "    <tr>\n",
       "      <th>2575</th>\n",
       "      <td>33.0</td>\n",
       "      <td>Female</td>\n",
       "      <td>Master's Degree</td>\n",
       "      <td>Full Stack Engineer</td>\n",
       "      <td>8.0</td>\n",
       "      <td>122581.0</td>\n",
       "    </tr>\n",
       "    <tr>\n",
       "      <th>2634</th>\n",
       "      <td>32.0</td>\n",
       "      <td>Female</td>\n",
       "      <td>Master's Degree</td>\n",
       "      <td>Full Stack Engineer</td>\n",
       "      <td>8.0</td>\n",
       "      <td>123781.0</td>\n",
       "    </tr>\n",
       "    <tr>\n",
       "      <th>2792</th>\n",
       "      <td>33.0</td>\n",
       "      <td>Female</td>\n",
       "      <td>Bachelor's Degree</td>\n",
       "      <td>Full Stack Engineer</td>\n",
       "      <td>8.0</td>\n",
       "      <td>124071.0</td>\n",
       "    </tr>\n",
       "    <tr>\n",
       "      <th>2821</th>\n",
       "      <td>33.0</td>\n",
       "      <td>Female</td>\n",
       "      <td>Master's Degree</td>\n",
       "      <td>Full Stack Engineer</td>\n",
       "      <td>8.0</td>\n",
       "      <td>122970.0</td>\n",
       "    </tr>\n",
       "    <tr>\n",
       "      <th>2911</th>\n",
       "      <td>33.0</td>\n",
       "      <td>Female</td>\n",
       "      <td>Bachelor's Degree</td>\n",
       "      <td>Full Stack Engineer</td>\n",
       "      <td>8.0</td>\n",
       "      <td>124071.0</td>\n",
       "    </tr>\n",
       "    <tr>\n",
       "      <th>2940</th>\n",
       "      <td>33.0</td>\n",
       "      <td>Female</td>\n",
       "      <td>Master's Degree</td>\n",
       "      <td>Full Stack Engineer</td>\n",
       "      <td>8.0</td>\n",
       "      <td>122970.0</td>\n",
       "    </tr>\n",
       "    <tr>\n",
       "      <th>3030</th>\n",
       "      <td>33.0</td>\n",
       "      <td>Female</td>\n",
       "      <td>Bachelor's Degree</td>\n",
       "      <td>Full Stack Engineer</td>\n",
       "      <td>8.0</td>\n",
       "      <td>124071.0</td>\n",
       "    </tr>\n",
       "    <tr>\n",
       "      <th>3059</th>\n",
       "      <td>33.0</td>\n",
       "      <td>Female</td>\n",
       "      <td>Master's Degree</td>\n",
       "      <td>Full Stack Engineer</td>\n",
       "      <td>8.0</td>\n",
       "      <td>122970.0</td>\n",
       "    </tr>\n",
       "    <tr>\n",
       "      <th>3097</th>\n",
       "      <td>31.0</td>\n",
       "      <td>Male</td>\n",
       "      <td>Master's Degree</td>\n",
       "      <td>Full Stack Engineer</td>\n",
       "      <td>8.0</td>\n",
       "      <td>120288.0</td>\n",
       "    </tr>\n",
       "    <tr>\n",
       "      <th>3136</th>\n",
       "      <td>31.0</td>\n",
       "      <td>Male</td>\n",
       "      <td>Master's Degree</td>\n",
       "      <td>Full Stack Engineer</td>\n",
       "      <td>8.0</td>\n",
       "      <td>NaN</td>\n",
       "    </tr>\n",
       "  </tbody>\n",
       "</table>\n",
       "</div>"
      ],
      "text/plain": [
       "       Age  Gender    Education Level            Job Title   \n",
       "1229  36.0  Female    Master's Degree  Full Stack Engineer  \\\n",
       "1326  36.0  Female    Master's Degree  Full Stack Engineer   \n",
       "1409  36.0    Male    Master's Degree  Full Stack Engineer   \n",
       "1670  35.0    Male  Bachelor's Degree  Full Stack Engineer   \n",
       "1689  35.0    Male  Bachelor's Degree  Full Stack Engineer   \n",
       "1708  35.0    Male  Bachelor's Degree  Full Stack Engineer   \n",
       "1727  35.0    Male  Bachelor's Degree  Full Stack Engineer   \n",
       "1746  35.0    Male  Bachelor's Degree  Full Stack Engineer   \n",
       "1765  35.0    Male  Bachelor's Degree  Full Stack Engineer   \n",
       "1780  35.0  Female  Bachelor's Degree  Full Stack Engineer   \n",
       "2135  35.0  Female    Master's Degree  Full Stack Engineer   \n",
       "2375  34.0  Female  Bachelor's Degree  Full Stack Engineer   \n",
       "2455  34.0  Female  Bachelor's Degree  Full Stack Engineer   \n",
       "2575  33.0  Female    Master's Degree  Full Stack Engineer   \n",
       "2634  32.0  Female    Master's Degree  Full Stack Engineer   \n",
       "2792  33.0  Female  Bachelor's Degree  Full Stack Engineer   \n",
       "2821  33.0  Female    Master's Degree  Full Stack Engineer   \n",
       "2911  33.0  Female  Bachelor's Degree  Full Stack Engineer   \n",
       "2940  33.0  Female    Master's Degree  Full Stack Engineer   \n",
       "3030  33.0  Female  Bachelor's Degree  Full Stack Engineer   \n",
       "3059  33.0  Female    Master's Degree  Full Stack Engineer   \n",
       "3097  31.0    Male    Master's Degree  Full Stack Engineer   \n",
       "3136  31.0    Male    Master's Degree  Full Stack Engineer   \n",
       "\n",
       "      Years of Experience    Salary  \n",
       "1229                  8.0  140000.0  \n",
       "1326                  8.0  140000.0  \n",
       "1409                  8.0  140000.0  \n",
       "1670                  8.0  145000.0  \n",
       "1689                  8.0  145000.0  \n",
       "1708                  8.0  145000.0  \n",
       "1727                  8.0  145000.0  \n",
       "1746                  8.0  145000.0  \n",
       "1765                  8.0  145000.0  \n",
       "1780                  8.0  145000.0  \n",
       "2135                  8.0  140000.0  \n",
       "2375                  8.0  122485.0  \n",
       "2455                  8.0  122485.0  \n",
       "2575                  8.0  122581.0  \n",
       "2634                  8.0  123781.0  \n",
       "2792                  8.0  124071.0  \n",
       "2821                  8.0  122970.0  \n",
       "2911                  8.0  124071.0  \n",
       "2940                  8.0  122970.0  \n",
       "3030                  8.0  124071.0  \n",
       "3059                  8.0  122970.0  \n",
       "3097                  8.0  120288.0  \n",
       "3136                  8.0       NaN  "
      ]
     },
     "execution_count": 12,
     "metadata": {},
     "output_type": "execute_result"
    }
   ],
   "source": [
    "# Análise dos dados da coluna \"Job Title\"\n",
    "df.loc[lambda f: (f['Job Title'] == 'Full Stack Engineer') & (f['Years of Experience'] == 8.0)]"
   ]
  },
  {
   "cell_type": "code",
   "execution_count": 13,
   "metadata": {
    "execution": {
     "iopub.execute_input": "2023-07-11T23:09:23.155660Z",
     "iopub.status.busy": "2023-07-11T23:09:23.155280Z",
     "iopub.status.idle": "2023-07-11T23:09:23.165623Z",
     "shell.execute_reply": "2023-07-11T23:09:23.164570Z",
     "shell.execute_reply.started": "2023-07-11T23:09:23.155633Z"
    }
   },
   "outputs": [],
   "source": [
    "# Preenchimento dos valoes nulos contidos na coluna \"Salary\"\n",
    "df.loc[lambda f: (f['Job Title'] == 'Sales Director') & (f['Salary'].isnull() == True) & (f['Years of Experience'] == 6.0), 'Salary'] = 75000.0\n",
    "df.loc[lambda f: (f['Job Title'] == 'Full Stack Engineer') & (f['Years of Experience'] == 8.0) & (f['Salary'].isnull() == True), 'Salary'] = 140000.0"
   ]
  },
  {
   "cell_type": "code",
   "execution_count": 14,
   "metadata": {
    "execution": {
     "iopub.execute_input": "2023-07-11T23:10:33.870818Z",
     "iopub.status.busy": "2023-07-11T23:10:33.870434Z",
     "iopub.status.idle": "2023-07-11T23:10:33.881356Z",
     "shell.execute_reply": "2023-07-11T23:10:33.880490Z",
     "shell.execute_reply.started": "2023-07-11T23:10:33.870790Z"
    }
   },
   "outputs": [
    {
     "data": {
      "text/plain": [
       "Age                    0\n",
       "Gender                 0\n",
       "Education Level        1\n",
       "Job Title              0\n",
       "Years of Experience    1\n",
       "Salary                 1\n",
       "dtype: int64"
      ]
     },
     "execution_count": 14,
     "metadata": {},
     "output_type": "execute_result"
    }
   ],
   "source": [
    "# Verificação dos dados nulos restntes\n",
    "df.isnull().sum()"
   ]
  },
  {
   "cell_type": "code",
   "execution_count": 15,
   "metadata": {
    "execution": {
     "iopub.execute_input": "2023-07-11T23:10:24.758852Z",
     "iopub.status.busy": "2023-07-11T23:10:24.758469Z",
     "iopub.status.idle": "2023-07-11T23:10:24.767718Z",
     "shell.execute_reply": "2023-07-11T23:10:24.766875Z",
     "shell.execute_reply.started": "2023-07-11T23:10:24.758827Z"
    }
   },
   "outputs": [],
   "source": [
    "# Como os dados nulos restantes não podem ser preenchidos de algum modo, então, a única alternativa para o tratamento destes dados é sua exclusão\n",
    "df.dropna(inplace=True)"
   ]
  },
  {
   "cell_type": "code",
   "execution_count": 16,
   "metadata": {
    "execution": {
     "iopub.execute_input": "2023-07-11T23:12:58.273013Z",
     "iopub.status.busy": "2023-07-11T23:12:58.272630Z",
     "iopub.status.idle": "2023-07-11T23:12:58.290266Z",
     "shell.execute_reply": "2023-07-11T23:12:58.288357Z",
     "shell.execute_reply.started": "2023-07-11T23:12:58.272981Z"
    }
   },
   "outputs": [
    {
     "data": {
      "text/html": [
       "<div>\n",
       "<style scoped>\n",
       "    .dataframe tbody tr th:only-of-type {\n",
       "        vertical-align: middle;\n",
       "    }\n",
       "\n",
       "    .dataframe tbody tr th {\n",
       "        vertical-align: top;\n",
       "    }\n",
       "\n",
       "    .dataframe thead th {\n",
       "        text-align: right;\n",
       "    }\n",
       "</style>\n",
       "<table border=\"1\" class=\"dataframe\">\n",
       "  <thead>\n",
       "    <tr style=\"text-align: right;\">\n",
       "      <th></th>\n",
       "      <th>Age</th>\n",
       "      <th>Gender</th>\n",
       "      <th>Education Level</th>\n",
       "      <th>Job Title</th>\n",
       "      <th>Years of Experience</th>\n",
       "      <th>Salary</th>\n",
       "    </tr>\n",
       "  </thead>\n",
       "  <tbody>\n",
       "    <tr>\n",
       "      <th>259</th>\n",
       "      <td>29.0</td>\n",
       "      <td>Male</td>\n",
       "      <td>Bachelor's</td>\n",
       "      <td>Junior Business Operations Analyst</td>\n",
       "      <td>1.5</td>\n",
       "      <td>350.0</td>\n",
       "    </tr>\n",
       "    <tr>\n",
       "      <th>1890</th>\n",
       "      <td>25.0</td>\n",
       "      <td>Female</td>\n",
       "      <td>Bachelor's Degree</td>\n",
       "      <td>Front end Developer</td>\n",
       "      <td>1.0</td>\n",
       "      <td>550.0</td>\n",
       "    </tr>\n",
       "    <tr>\n",
       "      <th>2654</th>\n",
       "      <td>23.0</td>\n",
       "      <td>Male</td>\n",
       "      <td>PhD</td>\n",
       "      <td>Software Engineer Manager</td>\n",
       "      <td>1.0</td>\n",
       "      <td>579.0</td>\n",
       "    </tr>\n",
       "    <tr>\n",
       "      <th>4633</th>\n",
       "      <td>31.0</td>\n",
       "      <td>Female</td>\n",
       "      <td>Bachelor's Degree</td>\n",
       "      <td>Junior HR Coordinator</td>\n",
       "      <td>4.0</td>\n",
       "      <td>500.0</td>\n",
       "    </tr>\n",
       "  </tbody>\n",
       "</table>\n",
       "</div>"
      ],
      "text/plain": [
       "       Age  Gender    Education Level                           Job Title   \n",
       "259   29.0    Male         Bachelor's  Junior Business Operations Analyst  \\\n",
       "1890  25.0  Female  Bachelor's Degree                 Front end Developer   \n",
       "2654  23.0    Male                PhD           Software Engineer Manager   \n",
       "4633  31.0  Female  Bachelor's Degree               Junior HR Coordinator   \n",
       "\n",
       "      Years of Experience  Salary  \n",
       "259                   1.5   350.0  \n",
       "1890                  1.0   550.0  \n",
       "2654                  1.0   579.0  \n",
       "4633                  4.0   500.0  "
      ]
     },
     "execution_count": 16,
     "metadata": {},
     "output_type": "execute_result"
    }
   ],
   "source": [
    "# Verifica se existe algum trabalhador com salário anual abaixo do mínimo estabelecido de $ 15.312 dólares\n",
    "df[df['Salary'] <= 16000]"
   ]
  },
  {
   "cell_type": "code",
   "execution_count": 17,
   "metadata": {
    "execution": {
     "iopub.execute_input": "2023-07-11T23:14:07.287567Z",
     "iopub.status.busy": "2023-07-11T23:14:07.287149Z",
     "iopub.status.idle": "2023-07-11T23:14:07.294763Z",
     "shell.execute_reply": "2023-07-11T23:14:07.293001Z",
     "shell.execute_reply.started": "2023-07-11T23:14:07.287535Z"
    }
   },
   "outputs": [],
   "source": [
    "# Exclusão de tais linhas\n",
    "ind = df[df['Salary'] <= 16000].index\n",
    "df.drop(index=ind, inplace=True)"
   ]
  },
  {
   "cell_type": "code",
   "execution_count": 18,
   "metadata": {
    "execution": {
     "iopub.execute_input": "2023-07-11T23:14:08.192818Z",
     "iopub.status.busy": "2023-07-11T23:14:08.192424Z",
     "iopub.status.idle": "2023-07-11T23:14:08.202000Z",
     "shell.execute_reply": "2023-07-11T23:14:08.200437Z",
     "shell.execute_reply.started": "2023-07-11T23:14:08.192791Z"
    }
   },
   "outputs": [
    {
     "data": {
      "text/plain": [
       "Gender\n",
       "Male      3671\n",
       "Female    3011\n",
       "Other       14\n",
       "Name: count, dtype: int64"
      ]
     },
     "execution_count": 18,
     "metadata": {},
     "output_type": "execute_result"
    }
   ],
   "source": [
    "# Verifica se existe algum dado estranho dentre os valores dentro da coluna \"Gender\"\n",
    "df['Gender'].value_counts()"
   ]
  },
  {
   "cell_type": "code",
   "execution_count": 19,
   "metadata": {
    "execution": {
     "iopub.execute_input": "2023-07-11T23:14:12.564915Z",
     "iopub.status.busy": "2023-07-11T23:14:12.564480Z",
     "iopub.status.idle": "2023-07-11T23:14:12.573598Z",
     "shell.execute_reply": "2023-07-11T23:14:12.572713Z",
     "shell.execute_reply.started": "2023-07-11T23:14:12.564887Z"
    }
   },
   "outputs": [
    {
     "data": {
      "text/plain": [
       "Education Level\n",
       "Bachelor's Degree    2264\n",
       "Master's Degree      1573\n",
       "PhD                  1367\n",
       "Bachelor's            755\n",
       "High School           448\n",
       "Master's              288\n",
       "phD                     1\n",
       "Name: count, dtype: int64"
      ]
     },
     "execution_count": 19,
     "metadata": {},
     "output_type": "execute_result"
    }
   ],
   "source": [
    "# Verifica se existe algum dado estranho dentre os valores dentro da coluna \"Education Level\"\n",
    "df['Education Level'].value_counts()"
   ]
  },
  {
   "cell_type": "code",
   "execution_count": 20,
   "metadata": {
    "execution": {
     "iopub.execute_input": "2023-07-11T23:16:06.374822Z",
     "iopub.status.busy": "2023-07-11T23:16:06.374419Z",
     "iopub.status.idle": "2023-07-11T23:16:06.383867Z",
     "shell.execute_reply": "2023-07-11T23:16:06.382457Z",
     "shell.execute_reply.started": "2023-07-11T23:16:06.374790Z"
    }
   },
   "outputs": [],
   "source": [
    "# Alteração dos valores estranhos dentro da coluna \"Education Level\"\n",
    "df['Education Level'].replace(\"Master's\", \"Master's Degree\", inplace=True)\n",
    "df['Education Level'].replace(\"Bachelor's\", \"bachelor's Degree\", inplace=True)\n",
    "df['Education Level'].replace(\"phD\", \"PhD\", inplace=True)"
   ]
  },
  {
   "cell_type": "code",
   "execution_count": 21,
   "metadata": {
    "execution": {
     "iopub.execute_input": "2023-07-11T23:16:07.638247Z",
     "iopub.status.busy": "2023-07-11T23:16:07.637884Z",
     "iopub.status.idle": "2023-07-11T23:16:07.647742Z",
     "shell.execute_reply": "2023-07-11T23:16:07.647019Z",
     "shell.execute_reply.started": "2023-07-11T23:16:07.638219Z"
    }
   },
   "outputs": [
    {
     "data": {
      "text/plain": [
       "Job Title\n",
       "Software Engineer             518\n",
       "Data Scientist                453\n",
       "Software Engineer Manager     375\n",
       "Data Analyst                  363\n",
       "Senior Project Engineer       318\n",
       "                             ... \n",
       "Account Manager                 1\n",
       "Help Desk Analyst               1\n",
       "Senior Training Specialist      1\n",
       "Junior Web Designer             1\n",
       "Software Project Manager        1\n",
       "Name: count, Length: 191, dtype: int64"
      ]
     },
     "execution_count": 21,
     "metadata": {},
     "output_type": "execute_result"
    }
   ],
   "source": [
    "# Verifica se existe algum dado estranho dentre os valores dentro da coluna \"Job Title\"\n",
    "df['Job Title'].value_counts()"
   ]
  },
  {
   "cell_type": "code",
   "execution_count": 22,
   "metadata": {
    "execution": {
     "iopub.execute_input": "2023-07-11T23:16:13.731857Z",
     "iopub.status.busy": "2023-07-11T23:16:13.731465Z",
     "iopub.status.idle": "2023-07-11T23:16:13.747492Z",
     "shell.execute_reply": "2023-07-11T23:16:13.746565Z",
     "shell.execute_reply.started": "2023-07-11T23:16:13.731828Z"
    }
   },
   "outputs": [
    {
     "name": "stdout",
     "output_type": "stream",
     "text": [
      "<class 'pandas.core.frame.DataFrame'>\n",
      "Index: 6696 entries, 0 to 6703\n",
      "Data columns (total 6 columns):\n",
      " #   Column               Non-Null Count  Dtype  \n",
      "---  ------               --------------  -----  \n",
      " 0   Age                  6696 non-null   float64\n",
      " 1   Gender               6696 non-null   object \n",
      " 2   Education Level      6696 non-null   object \n",
      " 3   Job Title            6696 non-null   object \n",
      " 4   Years of Experience  6696 non-null   float64\n",
      " 5   Salary               6696 non-null   float64\n",
      "dtypes: float64(3), object(3)\n",
      "memory usage: 366.2+ KB\n"
     ]
    }
   ],
   "source": [
    "df.info()"
   ]
  },
  {
   "cell_type": "code",
   "execution_count": 23,
   "metadata": {
    "execution": {
     "iopub.execute_input": "2023-07-11T23:18:05.121719Z",
     "iopub.status.busy": "2023-07-11T23:18:05.121372Z",
     "iopub.status.idle": "2023-07-11T23:18:05.144962Z",
     "shell.execute_reply": "2023-07-11T23:18:05.143829Z",
     "shell.execute_reply.started": "2023-07-11T23:18:05.121693Z"
    }
   },
   "outputs": [
    {
     "name": "stdout",
     "output_type": "stream",
     "text": [
      "<class 'pandas.core.frame.DataFrame'>\n",
      "Index: 6696 entries, 0 to 6703\n",
      "Data columns (total 6 columns):\n",
      " #   Column               Non-Null Count  Dtype   \n",
      "---  ------               --------------  -----   \n",
      " 0   Age                  6696 non-null   uint64  \n",
      " 1   Gender               6696 non-null   category\n",
      " 2   Education Level      6696 non-null   category\n",
      " 3   Job Title            6696 non-null   category\n",
      " 4   Years of Experience  6696 non-null   uint64  \n",
      " 5   Salary               6696 non-null   uint64  \n",
      "dtypes: category(3), uint64(3)\n",
      "memory usage: 241.3 KB\n"
     ]
    }
   ],
   "source": [
    "# Mudança dos tipos de dados de detrminadas colunas para minimizar o uso de memória\n",
    "df['Age'] = df['Age'].astype(np.uint)\n",
    "df['Years of Experience'] = df['Years of Experience'].astype(np.uint)\n",
    "df['Gender'] = df['Gender'].astype('category')\n",
    "df['Salary'] = df['Salary'].astype(np.uint)\n",
    "df['Education Level'] = df['Education Level'].astype('category')\n",
    "df['Job Title'] = df['Job Title'].astype('category')\n",
    "\n",
    "# Redução de mais de 100KB de uso de memória\n",
    "df.info()"
   ]
  },
  {
   "cell_type": "code",
   "execution_count": 24,
   "metadata": {
    "execution": {
     "iopub.execute_input": "2023-07-11T23:19:16.389488Z",
     "iopub.status.busy": "2023-07-11T23:19:16.388142Z",
     "iopub.status.idle": "2023-07-11T23:19:16.409947Z",
     "shell.execute_reply": "2023-07-11T23:19:16.408648Z",
     "shell.execute_reply.started": "2023-07-11T23:19:16.389442Z"
    }
   },
   "outputs": [
    {
     "data": {
      "text/html": [
       "<div>\n",
       "<style scoped>\n",
       "    .dataframe tbody tr th:only-of-type {\n",
       "        vertical-align: middle;\n",
       "    }\n",
       "\n",
       "    .dataframe tbody tr th {\n",
       "        vertical-align: top;\n",
       "    }\n",
       "\n",
       "    .dataframe thead th {\n",
       "        text-align: right;\n",
       "    }\n",
       "</style>\n",
       "<table border=\"1\" class=\"dataframe\">\n",
       "  <thead>\n",
       "    <tr style=\"text-align: right;\">\n",
       "      <th></th>\n",
       "      <th>Age</th>\n",
       "      <th>Gender</th>\n",
       "      <th>Education Level</th>\n",
       "      <th>Job Title</th>\n",
       "      <th>Years of Experience</th>\n",
       "      <th>Salary</th>\n",
       "    </tr>\n",
       "  </thead>\n",
       "  <tbody>\n",
       "    <tr>\n",
       "      <th>0</th>\n",
       "      <td>32</td>\n",
       "      <td>Male</td>\n",
       "      <td>bachelor's Degree</td>\n",
       "      <td>Software Engineer</td>\n",
       "      <td>5</td>\n",
       "      <td>90000</td>\n",
       "    </tr>\n",
       "    <tr>\n",
       "      <th>1</th>\n",
       "      <td>28</td>\n",
       "      <td>Female</td>\n",
       "      <td>Master's Degree</td>\n",
       "      <td>Data Analyst</td>\n",
       "      <td>3</td>\n",
       "      <td>65000</td>\n",
       "    </tr>\n",
       "    <tr>\n",
       "      <th>2</th>\n",
       "      <td>45</td>\n",
       "      <td>Male</td>\n",
       "      <td>PhD</td>\n",
       "      <td>Senior Manager</td>\n",
       "      <td>15</td>\n",
       "      <td>150000</td>\n",
       "    </tr>\n",
       "    <tr>\n",
       "      <th>3</th>\n",
       "      <td>36</td>\n",
       "      <td>Female</td>\n",
       "      <td>bachelor's Degree</td>\n",
       "      <td>Sales Associate</td>\n",
       "      <td>7</td>\n",
       "      <td>60000</td>\n",
       "    </tr>\n",
       "    <tr>\n",
       "      <th>4</th>\n",
       "      <td>52</td>\n",
       "      <td>Male</td>\n",
       "      <td>Master's Degree</td>\n",
       "      <td>Director</td>\n",
       "      <td>20</td>\n",
       "      <td>200000</td>\n",
       "    </tr>\n",
       "    <tr>\n",
       "      <th>...</th>\n",
       "      <td>...</td>\n",
       "      <td>...</td>\n",
       "      <td>...</td>\n",
       "      <td>...</td>\n",
       "      <td>...</td>\n",
       "      <td>...</td>\n",
       "    </tr>\n",
       "    <tr>\n",
       "      <th>6699</th>\n",
       "      <td>49</td>\n",
       "      <td>Female</td>\n",
       "      <td>PhD</td>\n",
       "      <td>Director of Marketing</td>\n",
       "      <td>20</td>\n",
       "      <td>200000</td>\n",
       "    </tr>\n",
       "    <tr>\n",
       "      <th>6700</th>\n",
       "      <td>32</td>\n",
       "      <td>Male</td>\n",
       "      <td>High School</td>\n",
       "      <td>Sales Associate</td>\n",
       "      <td>3</td>\n",
       "      <td>50000</td>\n",
       "    </tr>\n",
       "    <tr>\n",
       "      <th>6701</th>\n",
       "      <td>30</td>\n",
       "      <td>Female</td>\n",
       "      <td>Bachelor's Degree</td>\n",
       "      <td>Financial Manager</td>\n",
       "      <td>4</td>\n",
       "      <td>55000</td>\n",
       "    </tr>\n",
       "    <tr>\n",
       "      <th>6702</th>\n",
       "      <td>46</td>\n",
       "      <td>Male</td>\n",
       "      <td>Master's Degree</td>\n",
       "      <td>Marketing Manager</td>\n",
       "      <td>14</td>\n",
       "      <td>140000</td>\n",
       "    </tr>\n",
       "    <tr>\n",
       "      <th>6703</th>\n",
       "      <td>26</td>\n",
       "      <td>Female</td>\n",
       "      <td>High School</td>\n",
       "      <td>Sales Executive</td>\n",
       "      <td>1</td>\n",
       "      <td>35000</td>\n",
       "    </tr>\n",
       "  </tbody>\n",
       "</table>\n",
       "<p>6696 rows × 6 columns</p>\n",
       "</div>"
      ],
      "text/plain": [
       "      Age  Gender    Education Level              Job Title   \n",
       "0      32    Male  bachelor's Degree      Software Engineer  \\\n",
       "1      28  Female    Master's Degree           Data Analyst   \n",
       "2      45    Male                PhD         Senior Manager   \n",
       "3      36  Female  bachelor's Degree        Sales Associate   \n",
       "4      52    Male    Master's Degree               Director   \n",
       "...   ...     ...                ...                    ...   \n",
       "6699   49  Female                PhD  Director of Marketing   \n",
       "6700   32    Male        High School        Sales Associate   \n",
       "6701   30  Female  Bachelor's Degree      Financial Manager   \n",
       "6702   46    Male    Master's Degree      Marketing Manager   \n",
       "6703   26  Female        High School        Sales Executive   \n",
       "\n",
       "      Years of Experience  Salary  \n",
       "0                       5   90000  \n",
       "1                       3   65000  \n",
       "2                      15  150000  \n",
       "3                       7   60000  \n",
       "4                      20  200000  \n",
       "...                   ...     ...  \n",
       "6699                   20  200000  \n",
       "6700                    3   50000  \n",
       "6701                    4   55000  \n",
       "6702                   14  140000  \n",
       "6703                    1   35000  \n",
       "\n",
       "[6696 rows x 6 columns]"
      ]
     },
     "execution_count": 24,
     "metadata": {},
     "output_type": "execute_result"
    }
   ],
   "source": [
    "# Visualização dos dados após a análise\n",
    "df"
   ]
  },
  {
   "cell_type": "code",
   "execution_count": 25,
   "metadata": {},
   "outputs": [
    {
     "data": {
      "text/plain": [
       "Age                    0\n",
       "Gender                 0\n",
       "Education Level        0\n",
       "Job Title              0\n",
       "Years of Experience    0\n",
       "Salary                 0\n",
       "dtype: int64"
      ]
     },
     "execution_count": 25,
     "metadata": {},
     "output_type": "execute_result"
    }
   ],
   "source": [
    "df.isnull().sum()"
   ]
  },
  {
   "cell_type": "code",
   "execution_count": null,
   "metadata": {},
   "outputs": [],
   "source": []
  }
 ],
 "metadata": {
  "kernelspec": {
   "display_name": "Python 3 (ipykernel)",
   "language": "python",
   "name": "python3"
  },
  "language_info": {
   "codemirror_mode": {
    "name": "ipython",
    "version": 3
   },
   "file_extension": ".py",
   "mimetype": "text/x-python",
   "name": "python",
   "nbconvert_exporter": "python",
   "pygments_lexer": "ipython3",
   "version": "3.9.2"
  }
 },
 "nbformat": 4,
 "nbformat_minor": 4
}
