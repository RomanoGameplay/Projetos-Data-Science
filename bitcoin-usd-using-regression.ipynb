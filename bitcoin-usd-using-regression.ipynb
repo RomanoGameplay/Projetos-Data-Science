{
 "cells": [
  {
   "cell_type": "code",
   "execution_count": 1,
   "id": "aa7736ac",
   "metadata": {
    "_cell_guid": "b1076dfc-b9ad-4769-8c92-a6c4dae69d19",
    "_uuid": "8f2839f25d086af736a60e9eeb907d3b93b6e0e5",
    "execution": {
     "iopub.execute_input": "2023-07-07T14:26:11.398115Z",
     "iopub.status.busy": "2023-07-07T14:26:11.396977Z",
     "iopub.status.idle": "2023-07-07T14:26:11.452022Z",
     "shell.execute_reply": "2023-07-07T14:26:11.450749Z"
    },
    "papermill": {
     "duration": 0.064992,
     "end_time": "2023-07-07T14:26:11.455057",
     "exception": false,
     "start_time": "2023-07-07T14:26:11.390065",
     "status": "completed"
    },
    "tags": []
   },
   "outputs": [
    {
     "name": "stdout",
     "output_type": "stream",
     "text": [
      "/kaggle/input/bitcoin-usd-daily-price-with-volume-2015-2023/BTC-USD.csv\n"
     ]
    }
   ],
   "source": [
    "# This Python 3 environment comes with many helpful analytics libraries installed\n",
    "# It is defined by the kaggle/python Docker image: https://github.com/kaggle/docker-python\n",
    "# For example, here's several helpful packages to load\n",
    "\n",
    "import numpy as np # linear algebra\n",
    "import pandas as pd # data processing, CSV file I/O (e.g. pd.read_csv)\n",
    "\n",
    "# Input data files are available in the read-only \"../input/\" directory\n",
    "# For example, running this (by clicking run or pressing Shift+Enter) will list all files under the input directory\n",
    "\n",
    "import os\n",
    "\n",
    "df = pd.DataFrame()\n",
    "for dirname, _, filenames in os.walk('/kaggle/input'):\n",
    "    for filename in filenames:\n",
    "        dataframe_path = os.path.join(dirname, filename)\n",
    "        print(dataframe_path)\n",
    "        df = pd.read_csv(dataframe_path, encoding='latin-1')\n",
    "\n",
    "# You can write up to 20GB to the current directory (/kaggle/working/) that gets preserved as output when you create a version using \"Save & Run All\" \n",
    "# You can also write temporary files to /kaggle/temp/, but they won't be saved outside of the current session"
   ]
  },
  {
   "cell_type": "code",
   "execution_count": 2,
   "id": "f82de465",
   "metadata": {
    "execution": {
     "iopub.execute_input": "2023-07-07T14:26:11.465575Z",
     "iopub.status.busy": "2023-07-07T14:26:11.465194Z",
     "iopub.status.idle": "2023-07-07T14:26:11.507418Z",
     "shell.execute_reply": "2023-07-07T14:26:11.506259Z"
    },
    "papermill": {
     "duration": 0.0506,
     "end_time": "2023-07-07T14:26:11.510169",
     "exception": false,
     "start_time": "2023-07-07T14:26:11.459569",
     "status": "completed"
    },
    "tags": []
   },
   "outputs": [
    {
     "data": {
      "text/html": [
       "<div>\n",
       "<style scoped>\n",
       "    .dataframe tbody tr th:only-of-type {\n",
       "        vertical-align: middle;\n",
       "    }\n",
       "\n",
       "    .dataframe tbody tr th {\n",
       "        vertical-align: top;\n",
       "    }\n",
       "\n",
       "    .dataframe thead th {\n",
       "        text-align: right;\n",
       "    }\n",
       "</style>\n",
       "<table border=\"1\" class=\"dataframe\">\n",
       "  <thead>\n",
       "    <tr style=\"text-align: right;\">\n",
       "      <th></th>\n",
       "      <th>Date</th>\n",
       "      <th>Open</th>\n",
       "      <th>High</th>\n",
       "      <th>Low</th>\n",
       "      <th>Close</th>\n",
       "      <th>Adj Close</th>\n",
       "      <th>Volume</th>\n",
       "    </tr>\n",
       "  </thead>\n",
       "  <tbody>\n",
       "    <tr>\n",
       "      <th>0</th>\n",
       "      <td>2015-01-03</td>\n",
       "      <td>314.846008</td>\n",
       "      <td>315.149994</td>\n",
       "      <td>281.082001</td>\n",
       "      <td>281.082001</td>\n",
       "      <td>281.082001</td>\n",
       "      <td>33054400</td>\n",
       "    </tr>\n",
       "    <tr>\n",
       "      <th>1</th>\n",
       "      <td>2015-01-04</td>\n",
       "      <td>281.145996</td>\n",
       "      <td>287.230011</td>\n",
       "      <td>257.612000</td>\n",
       "      <td>264.195007</td>\n",
       "      <td>264.195007</td>\n",
       "      <td>55629100</td>\n",
       "    </tr>\n",
       "    <tr>\n",
       "      <th>2</th>\n",
       "      <td>2015-01-05</td>\n",
       "      <td>265.084015</td>\n",
       "      <td>278.341003</td>\n",
       "      <td>265.084015</td>\n",
       "      <td>274.473999</td>\n",
       "      <td>274.473999</td>\n",
       "      <td>43962800</td>\n",
       "    </tr>\n",
       "    <tr>\n",
       "      <th>3</th>\n",
       "      <td>2015-01-06</td>\n",
       "      <td>274.610992</td>\n",
       "      <td>287.553009</td>\n",
       "      <td>272.696014</td>\n",
       "      <td>286.188995</td>\n",
       "      <td>286.188995</td>\n",
       "      <td>23245700</td>\n",
       "    </tr>\n",
       "    <tr>\n",
       "      <th>4</th>\n",
       "      <td>2015-01-07</td>\n",
       "      <td>286.076996</td>\n",
       "      <td>298.753998</td>\n",
       "      <td>283.079010</td>\n",
       "      <td>294.337006</td>\n",
       "      <td>294.337006</td>\n",
       "      <td>24866800</td>\n",
       "    </tr>\n",
       "    <tr>\n",
       "      <th>...</th>\n",
       "      <td>...</td>\n",
       "      <td>...</td>\n",
       "      <td>...</td>\n",
       "      <td>...</td>\n",
       "      <td>...</td>\n",
       "      <td>...</td>\n",
       "      <td>...</td>\n",
       "    </tr>\n",
       "    <tr>\n",
       "      <th>3099</th>\n",
       "      <td>2023-06-29</td>\n",
       "      <td>30086.187500</td>\n",
       "      <td>30796.250000</td>\n",
       "      <td>30057.203125</td>\n",
       "      <td>30445.351563</td>\n",
       "      <td>30445.351563</td>\n",
       "      <td>13180860821</td>\n",
       "    </tr>\n",
       "    <tr>\n",
       "      <th>3100</th>\n",
       "      <td>2023-06-30</td>\n",
       "      <td>30441.353516</td>\n",
       "      <td>31256.863281</td>\n",
       "      <td>29600.275391</td>\n",
       "      <td>30477.251953</td>\n",
       "      <td>30477.251953</td>\n",
       "      <td>26387306197</td>\n",
       "    </tr>\n",
       "    <tr>\n",
       "      <th>3101</th>\n",
       "      <td>2023-07-01</td>\n",
       "      <td>30471.847656</td>\n",
       "      <td>30641.289063</td>\n",
       "      <td>30328.865234</td>\n",
       "      <td>30590.078125</td>\n",
       "      <td>30590.078125</td>\n",
       "      <td>9086606733</td>\n",
       "    </tr>\n",
       "    <tr>\n",
       "      <th>3102</th>\n",
       "      <td>2023-07-02</td>\n",
       "      <td>30587.269531</td>\n",
       "      <td>30766.140625</td>\n",
       "      <td>30264.019531</td>\n",
       "      <td>30620.769531</td>\n",
       "      <td>30620.769531</td>\n",
       "      <td>10533418042</td>\n",
       "    </tr>\n",
       "    <tr>\n",
       "      <th>3103</th>\n",
       "      <td>2023-07-03</td>\n",
       "      <td>30616.166016</td>\n",
       "      <td>30789.113281</td>\n",
       "      <td>30602.289063</td>\n",
       "      <td>30652.357422</td>\n",
       "      <td>30652.357422</td>\n",
       "      <td>11762191360</td>\n",
       "    </tr>\n",
       "  </tbody>\n",
       "</table>\n",
       "<p>3104 rows × 7 columns</p>\n",
       "</div>"
      ],
      "text/plain": [
       "            Date          Open          High           Low         Close  \\\n",
       "0     2015-01-03    314.846008    315.149994    281.082001    281.082001   \n",
       "1     2015-01-04    281.145996    287.230011    257.612000    264.195007   \n",
       "2     2015-01-05    265.084015    278.341003    265.084015    274.473999   \n",
       "3     2015-01-06    274.610992    287.553009    272.696014    286.188995   \n",
       "4     2015-01-07    286.076996    298.753998    283.079010    294.337006   \n",
       "...          ...           ...           ...           ...           ...   \n",
       "3099  2023-06-29  30086.187500  30796.250000  30057.203125  30445.351563   \n",
       "3100  2023-06-30  30441.353516  31256.863281  29600.275391  30477.251953   \n",
       "3101  2023-07-01  30471.847656  30641.289063  30328.865234  30590.078125   \n",
       "3102  2023-07-02  30587.269531  30766.140625  30264.019531  30620.769531   \n",
       "3103  2023-07-03  30616.166016  30789.113281  30602.289063  30652.357422   \n",
       "\n",
       "         Adj Close       Volume  \n",
       "0       281.082001     33054400  \n",
       "1       264.195007     55629100  \n",
       "2       274.473999     43962800  \n",
       "3       286.188995     23245700  \n",
       "4       294.337006     24866800  \n",
       "...            ...          ...  \n",
       "3099  30445.351563  13180860821  \n",
       "3100  30477.251953  26387306197  \n",
       "3101  30590.078125   9086606733  \n",
       "3102  30620.769531  10533418042  \n",
       "3103  30652.357422  11762191360  \n",
       "\n",
       "[3104 rows x 7 columns]"
      ]
     },
     "execution_count": 2,
     "metadata": {},
     "output_type": "execute_result"
    }
   ],
   "source": [
    "df"
   ]
  },
  {
   "cell_type": "code",
   "execution_count": 3,
   "id": "76591135",
   "metadata": {
    "execution": {
     "iopub.execute_input": "2023-07-07T14:26:11.522279Z",
     "iopub.status.busy": "2023-07-07T14:26:11.521869Z",
     "iopub.status.idle": "2023-07-07T14:26:11.538132Z",
     "shell.execute_reply": "2023-07-07T14:26:11.536997Z"
    },
    "papermill": {
     "duration": 0.025341,
     "end_time": "2023-07-07T14:26:11.540823",
     "exception": false,
     "start_time": "2023-07-07T14:26:11.515482",
     "status": "completed"
    },
    "tags": []
   },
   "outputs": [
    {
     "data": {
      "text/html": [
       "<div>\n",
       "<style scoped>\n",
       "    .dataframe tbody tr th:only-of-type {\n",
       "        vertical-align: middle;\n",
       "    }\n",
       "\n",
       "    .dataframe tbody tr th {\n",
       "        vertical-align: top;\n",
       "    }\n",
       "\n",
       "    .dataframe thead th {\n",
       "        text-align: right;\n",
       "    }\n",
       "</style>\n",
       "<table border=\"1\" class=\"dataframe\">\n",
       "  <thead>\n",
       "    <tr style=\"text-align: right;\">\n",
       "      <th></th>\n",
       "      <th>Date</th>\n",
       "      <th>Open</th>\n",
       "      <th>High</th>\n",
       "      <th>Low</th>\n",
       "      <th>Close</th>\n",
       "      <th>Adj Close</th>\n",
       "      <th>Volume</th>\n",
       "    </tr>\n",
       "  </thead>\n",
       "  <tbody>\n",
       "    <tr>\n",
       "      <th>0</th>\n",
       "      <td>2015-01-03</td>\n",
       "      <td>314.846008</td>\n",
       "      <td>315.149994</td>\n",
       "      <td>281.082001</td>\n",
       "      <td>281.082001</td>\n",
       "      <td>281.082001</td>\n",
       "      <td>33054400</td>\n",
       "    </tr>\n",
       "    <tr>\n",
       "      <th>1</th>\n",
       "      <td>2015-01-04</td>\n",
       "      <td>281.145996</td>\n",
       "      <td>287.230011</td>\n",
       "      <td>257.612000</td>\n",
       "      <td>264.195007</td>\n",
       "      <td>264.195007</td>\n",
       "      <td>55629100</td>\n",
       "    </tr>\n",
       "    <tr>\n",
       "      <th>2</th>\n",
       "      <td>2015-01-05</td>\n",
       "      <td>265.084015</td>\n",
       "      <td>278.341003</td>\n",
       "      <td>265.084015</td>\n",
       "      <td>274.473999</td>\n",
       "      <td>274.473999</td>\n",
       "      <td>43962800</td>\n",
       "    </tr>\n",
       "    <tr>\n",
       "      <th>3</th>\n",
       "      <td>2015-01-06</td>\n",
       "      <td>274.610992</td>\n",
       "      <td>287.553009</td>\n",
       "      <td>272.696014</td>\n",
       "      <td>286.188995</td>\n",
       "      <td>286.188995</td>\n",
       "      <td>23245700</td>\n",
       "    </tr>\n",
       "    <tr>\n",
       "      <th>4</th>\n",
       "      <td>2015-01-07</td>\n",
       "      <td>286.076996</td>\n",
       "      <td>298.753998</td>\n",
       "      <td>283.079010</td>\n",
       "      <td>294.337006</td>\n",
       "      <td>294.337006</td>\n",
       "      <td>24866800</td>\n",
       "    </tr>\n",
       "  </tbody>\n",
       "</table>\n",
       "</div>"
      ],
      "text/plain": [
       "         Date        Open        High         Low       Close   Adj Close  \\\n",
       "0  2015-01-03  314.846008  315.149994  281.082001  281.082001  281.082001   \n",
       "1  2015-01-04  281.145996  287.230011  257.612000  264.195007  264.195007   \n",
       "2  2015-01-05  265.084015  278.341003  265.084015  274.473999  274.473999   \n",
       "3  2015-01-06  274.610992  287.553009  272.696014  286.188995  286.188995   \n",
       "4  2015-01-07  286.076996  298.753998  283.079010  294.337006  294.337006   \n",
       "\n",
       "     Volume  \n",
       "0  33054400  \n",
       "1  55629100  \n",
       "2  43962800  \n",
       "3  23245700  \n",
       "4  24866800  "
      ]
     },
     "execution_count": 3,
     "metadata": {},
     "output_type": "execute_result"
    }
   ],
   "source": [
    "df.head()"
   ]
  },
  {
   "cell_type": "code",
   "execution_count": 4,
   "id": "61aa0621",
   "metadata": {
    "execution": {
     "iopub.execute_input": "2023-07-07T14:26:11.552860Z",
     "iopub.status.busy": "2023-07-07T14:26:11.552437Z",
     "iopub.status.idle": "2023-07-07T14:26:11.567742Z",
     "shell.execute_reply": "2023-07-07T14:26:11.566542Z"
    },
    "papermill": {
     "duration": 0.024387,
     "end_time": "2023-07-07T14:26:11.570218",
     "exception": false,
     "start_time": "2023-07-07T14:26:11.545831",
     "status": "completed"
    },
    "tags": []
   },
   "outputs": [
    {
     "data": {
      "text/html": [
       "<div>\n",
       "<style scoped>\n",
       "    .dataframe tbody tr th:only-of-type {\n",
       "        vertical-align: middle;\n",
       "    }\n",
       "\n",
       "    .dataframe tbody tr th {\n",
       "        vertical-align: top;\n",
       "    }\n",
       "\n",
       "    .dataframe thead th {\n",
       "        text-align: right;\n",
       "    }\n",
       "</style>\n",
       "<table border=\"1\" class=\"dataframe\">\n",
       "  <thead>\n",
       "    <tr style=\"text-align: right;\">\n",
       "      <th></th>\n",
       "      <th>Date</th>\n",
       "      <th>Open</th>\n",
       "      <th>High</th>\n",
       "      <th>Low</th>\n",
       "      <th>Close</th>\n",
       "      <th>Adj Close</th>\n",
       "      <th>Volume</th>\n",
       "    </tr>\n",
       "  </thead>\n",
       "  <tbody>\n",
       "    <tr>\n",
       "      <th>3099</th>\n",
       "      <td>2023-06-29</td>\n",
       "      <td>30086.187500</td>\n",
       "      <td>30796.250000</td>\n",
       "      <td>30057.203125</td>\n",
       "      <td>30445.351563</td>\n",
       "      <td>30445.351563</td>\n",
       "      <td>13180860821</td>\n",
       "    </tr>\n",
       "    <tr>\n",
       "      <th>3100</th>\n",
       "      <td>2023-06-30</td>\n",
       "      <td>30441.353516</td>\n",
       "      <td>31256.863281</td>\n",
       "      <td>29600.275391</td>\n",
       "      <td>30477.251953</td>\n",
       "      <td>30477.251953</td>\n",
       "      <td>26387306197</td>\n",
       "    </tr>\n",
       "    <tr>\n",
       "      <th>3101</th>\n",
       "      <td>2023-07-01</td>\n",
       "      <td>30471.847656</td>\n",
       "      <td>30641.289063</td>\n",
       "      <td>30328.865234</td>\n",
       "      <td>30590.078125</td>\n",
       "      <td>30590.078125</td>\n",
       "      <td>9086606733</td>\n",
       "    </tr>\n",
       "    <tr>\n",
       "      <th>3102</th>\n",
       "      <td>2023-07-02</td>\n",
       "      <td>30587.269531</td>\n",
       "      <td>30766.140625</td>\n",
       "      <td>30264.019531</td>\n",
       "      <td>30620.769531</td>\n",
       "      <td>30620.769531</td>\n",
       "      <td>10533418042</td>\n",
       "    </tr>\n",
       "    <tr>\n",
       "      <th>3103</th>\n",
       "      <td>2023-07-03</td>\n",
       "      <td>30616.166016</td>\n",
       "      <td>30789.113281</td>\n",
       "      <td>30602.289063</td>\n",
       "      <td>30652.357422</td>\n",
       "      <td>30652.357422</td>\n",
       "      <td>11762191360</td>\n",
       "    </tr>\n",
       "  </tbody>\n",
       "</table>\n",
       "</div>"
      ],
      "text/plain": [
       "            Date          Open          High           Low         Close  \\\n",
       "3099  2023-06-29  30086.187500  30796.250000  30057.203125  30445.351563   \n",
       "3100  2023-06-30  30441.353516  31256.863281  29600.275391  30477.251953   \n",
       "3101  2023-07-01  30471.847656  30641.289063  30328.865234  30590.078125   \n",
       "3102  2023-07-02  30587.269531  30766.140625  30264.019531  30620.769531   \n",
       "3103  2023-07-03  30616.166016  30789.113281  30602.289063  30652.357422   \n",
       "\n",
       "         Adj Close       Volume  \n",
       "3099  30445.351563  13180860821  \n",
       "3100  30477.251953  26387306197  \n",
       "3101  30590.078125   9086606733  \n",
       "3102  30620.769531  10533418042  \n",
       "3103  30652.357422  11762191360  "
      ]
     },
     "execution_count": 4,
     "metadata": {},
     "output_type": "execute_result"
    }
   ],
   "source": [
    "df.tail()"
   ]
  },
  {
   "cell_type": "code",
   "execution_count": 5,
   "id": "401dd8f5",
   "metadata": {
    "execution": {
     "iopub.execute_input": "2023-07-07T14:26:11.582436Z",
     "iopub.status.busy": "2023-07-07T14:26:11.582037Z",
     "iopub.status.idle": "2023-07-07T14:26:11.601959Z",
     "shell.execute_reply": "2023-07-07T14:26:11.600622Z"
    },
    "papermill": {
     "duration": 0.02899,
     "end_time": "2023-07-07T14:26:11.604406",
     "exception": false,
     "start_time": "2023-07-07T14:26:11.575416",
     "status": "completed"
    },
    "tags": []
   },
   "outputs": [
    {
     "data": {
      "text/html": [
       "<div>\n",
       "<style scoped>\n",
       "    .dataframe tbody tr th:only-of-type {\n",
       "        vertical-align: middle;\n",
       "    }\n",
       "\n",
       "    .dataframe tbody tr th {\n",
       "        vertical-align: top;\n",
       "    }\n",
       "\n",
       "    .dataframe thead th {\n",
       "        text-align: right;\n",
       "    }\n",
       "</style>\n",
       "<table border=\"1\" class=\"dataframe\">\n",
       "  <thead>\n",
       "    <tr style=\"text-align: right;\">\n",
       "      <th></th>\n",
       "      <th>Date</th>\n",
       "      <th>Open</th>\n",
       "      <th>High</th>\n",
       "      <th>Low</th>\n",
       "      <th>Close</th>\n",
       "      <th>Adj Close</th>\n",
       "      <th>Volume</th>\n",
       "    </tr>\n",
       "  </thead>\n",
       "  <tbody>\n",
       "    <tr>\n",
       "      <th>2941</th>\n",
       "      <td>2023-01-22</td>\n",
       "      <td>22777.986328</td>\n",
       "      <td>23056.730469</td>\n",
       "      <td>22387.900391</td>\n",
       "      <td>22720.416016</td>\n",
       "      <td>22720.416016</td>\n",
       "      <td>24746386230</td>\n",
       "    </tr>\n",
       "    <tr>\n",
       "      <th>2731</th>\n",
       "      <td>2022-06-26</td>\n",
       "      <td>21496.494141</td>\n",
       "      <td>21783.724609</td>\n",
       "      <td>21016.269531</td>\n",
       "      <td>21027.294922</td>\n",
       "      <td>21027.294922</td>\n",
       "      <td>18027170497</td>\n",
       "    </tr>\n",
       "    <tr>\n",
       "      <th>2748</th>\n",
       "      <td>2022-07-13</td>\n",
       "      <td>19325.972656</td>\n",
       "      <td>20223.052734</td>\n",
       "      <td>18999.953125</td>\n",
       "      <td>20212.074219</td>\n",
       "      <td>20212.074219</td>\n",
       "      <td>33042430345</td>\n",
       "    </tr>\n",
       "    <tr>\n",
       "      <th>2750</th>\n",
       "      <td>2022-07-15</td>\n",
       "      <td>20573.156250</td>\n",
       "      <td>21138.244141</td>\n",
       "      <td>20397.000000</td>\n",
       "      <td>20836.328125</td>\n",
       "      <td>20836.328125</td>\n",
       "      <td>25905575359</td>\n",
       "    </tr>\n",
       "    <tr>\n",
       "      <th>3058</th>\n",
       "      <td>2023-05-19</td>\n",
       "      <td>26826.753906</td>\n",
       "      <td>27128.619141</td>\n",
       "      <td>26700.210938</td>\n",
       "      <td>26890.128906</td>\n",
       "      <td>26890.128906</td>\n",
       "      <td>11258983301</td>\n",
       "    </tr>\n",
       "  </tbody>\n",
       "</table>\n",
       "</div>"
      ],
      "text/plain": [
       "            Date          Open          High           Low         Close  \\\n",
       "2941  2023-01-22  22777.986328  23056.730469  22387.900391  22720.416016   \n",
       "2731  2022-06-26  21496.494141  21783.724609  21016.269531  21027.294922   \n",
       "2748  2022-07-13  19325.972656  20223.052734  18999.953125  20212.074219   \n",
       "2750  2022-07-15  20573.156250  21138.244141  20397.000000  20836.328125   \n",
       "3058  2023-05-19  26826.753906  27128.619141  26700.210938  26890.128906   \n",
       "\n",
       "         Adj Close       Volume  \n",
       "2941  22720.416016  24746386230  \n",
       "2731  21027.294922  18027170497  \n",
       "2748  20212.074219  33042430345  \n",
       "2750  20836.328125  25905575359  \n",
       "3058  26890.128906  11258983301  "
      ]
     },
     "execution_count": 5,
     "metadata": {},
     "output_type": "execute_result"
    }
   ],
   "source": [
    "df.sample(5)"
   ]
  },
  {
   "cell_type": "code",
   "execution_count": 6,
   "id": "4561a752",
   "metadata": {
    "execution": {
     "iopub.execute_input": "2023-07-07T14:26:11.617232Z",
     "iopub.status.busy": "2023-07-07T14:26:11.616842Z",
     "iopub.status.idle": "2023-07-07T14:26:11.644134Z",
     "shell.execute_reply": "2023-07-07T14:26:11.642359Z"
    },
    "papermill": {
     "duration": 0.037013,
     "end_time": "2023-07-07T14:26:11.646966",
     "exception": false,
     "start_time": "2023-07-07T14:26:11.609953",
     "status": "completed"
    },
    "tags": []
   },
   "outputs": [
    {
     "name": "stdout",
     "output_type": "stream",
     "text": [
      "<class 'pandas.core.frame.DataFrame'>\n",
      "RangeIndex: 3104 entries, 0 to 3103\n",
      "Data columns (total 7 columns):\n",
      " #   Column     Non-Null Count  Dtype  \n",
      "---  ------     --------------  -----  \n",
      " 0   Date       3104 non-null   object \n",
      " 1   Open       3104 non-null   float64\n",
      " 2   High       3104 non-null   float64\n",
      " 3   Low        3104 non-null   float64\n",
      " 4   Close      3104 non-null   float64\n",
      " 5   Adj Close  3104 non-null   float64\n",
      " 6   Volume     3104 non-null   int64  \n",
      "dtypes: float64(5), int64(1), object(1)\n",
      "memory usage: 169.9+ KB\n"
     ]
    }
   ],
   "source": [
    "df.info()"
   ]
  },
  {
   "cell_type": "code",
   "execution_count": 7,
   "id": "66f74d09",
   "metadata": {
    "execution": {
     "iopub.execute_input": "2023-07-07T14:26:11.660227Z",
     "iopub.status.busy": "2023-07-07T14:26:11.659823Z",
     "iopub.status.idle": "2023-07-07T14:26:11.668375Z",
     "shell.execute_reply": "2023-07-07T14:26:11.667187Z"
    },
    "papermill": {
     "duration": 0.018115,
     "end_time": "2023-07-07T14:26:11.670968",
     "exception": false,
     "start_time": "2023-07-07T14:26:11.652853",
     "status": "completed"
    },
    "tags": []
   },
   "outputs": [],
   "source": [
    "df = df.assign(\n",
    "    Date = lambda f: pd.to_datetime(f['Date'])\n",
    ")"
   ]
  },
  {
   "cell_type": "code",
   "execution_count": 8,
   "id": "50808bd5",
   "metadata": {
    "execution": {
     "iopub.execute_input": "2023-07-07T14:26:11.684433Z",
     "iopub.status.busy": "2023-07-07T14:26:11.683525Z",
     "iopub.status.idle": "2023-07-07T14:26:11.693219Z",
     "shell.execute_reply": "2023-07-07T14:26:11.691887Z"
    },
    "papermill": {
     "duration": 0.018875,
     "end_time": "2023-07-07T14:26:11.695535",
     "exception": false,
     "start_time": "2023-07-07T14:26:11.676660",
     "status": "completed"
    },
    "tags": []
   },
   "outputs": [
    {
     "data": {
      "text/plain": [
       "Date         0\n",
       "Open         0\n",
       "High         0\n",
       "Low          0\n",
       "Close        0\n",
       "Adj Close    0\n",
       "Volume       0\n",
       "dtype: int64"
      ]
     },
     "execution_count": 8,
     "metadata": {},
     "output_type": "execute_result"
    }
   ],
   "source": [
    "df.isnull().sum()"
   ]
  },
  {
   "cell_type": "code",
   "execution_count": 9,
   "id": "ee641191",
   "metadata": {
    "execution": {
     "iopub.execute_input": "2023-07-07T14:26:11.711371Z",
     "iopub.status.busy": "2023-07-07T14:26:11.710996Z",
     "iopub.status.idle": "2023-07-07T14:26:11.725939Z",
     "shell.execute_reply": "2023-07-07T14:26:11.724631Z"
    },
    "papermill": {
     "duration": 0.025179,
     "end_time": "2023-07-07T14:26:11.728233",
     "exception": false,
     "start_time": "2023-07-07T14:26:11.703054",
     "status": "completed"
    },
    "tags": []
   },
   "outputs": [
    {
     "data": {
      "text/html": [
       "<div>\n",
       "<style scoped>\n",
       "    .dataframe tbody tr th:only-of-type {\n",
       "        vertical-align: middle;\n",
       "    }\n",
       "\n",
       "    .dataframe tbody tr th {\n",
       "        vertical-align: top;\n",
       "    }\n",
       "\n",
       "    .dataframe thead th {\n",
       "        text-align: right;\n",
       "    }\n",
       "</style>\n",
       "<table border=\"1\" class=\"dataframe\">\n",
       "  <thead>\n",
       "    <tr style=\"text-align: right;\">\n",
       "      <th></th>\n",
       "      <th>Date</th>\n",
       "      <th>Open</th>\n",
       "      <th>High</th>\n",
       "      <th>Low</th>\n",
       "      <th>Close</th>\n",
       "      <th>Adj Close</th>\n",
       "      <th>Volume</th>\n",
       "    </tr>\n",
       "  </thead>\n",
       "  <tbody>\n",
       "  </tbody>\n",
       "</table>\n",
       "</div>"
      ],
      "text/plain": [
       "Empty DataFrame\n",
       "Columns: [Date, Open, High, Low, Close, Adj Close, Volume]\n",
       "Index: []"
      ]
     },
     "execution_count": 9,
     "metadata": {},
     "output_type": "execute_result"
    }
   ],
   "source": [
    "df.loc[lambda f: f['Date'].duplicated() == True]"
   ]
  },
  {
   "cell_type": "code",
   "execution_count": null,
   "id": "ccf961f7",
   "metadata": {
    "papermill": {
     "duration": 0.006101,
     "end_time": "2023-07-07T14:26:11.740403",
     "exception": false,
     "start_time": "2023-07-07T14:26:11.734302",
     "status": "completed"
    },
    "tags": []
   },
   "outputs": [],
   "source": []
  }
 ],
 "metadata": {
  "kernelspec": {
   "display_name": "Python 3",
   "language": "python",
   "name": "python3"
  },
  "language_info": {
   "codemirror_mode": {
    "name": "ipython",
    "version": 3
   },
   "file_extension": ".py",
   "mimetype": "text/x-python",
   "name": "python",
   "nbconvert_exporter": "python",
   "pygments_lexer": "ipython3",
   "version": "3.10.10"
  },
  "papermill": {
   "default_parameters": {},
   "duration": 18.90384,
   "end_time": "2023-07-07T14:26:14.985103",
   "environment_variables": {},
   "exception": null,
   "input_path": "__notebook__.ipynb",
   "output_path": "__notebook__.ipynb",
   "parameters": {},
   "start_time": "2023-07-07T14:25:56.081263",
   "version": "2.4.0"
  }
 },
 "nbformat": 4,
 "nbformat_minor": 5
}
